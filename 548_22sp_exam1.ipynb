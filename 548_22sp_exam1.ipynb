{
 "cells": [
  {
   "cell_type": "markdown",
   "metadata": {
    "id": "4qz2av61Xgua"
   },
   "source": [
    "# 548 22sp exam1 due 11:59p Fri Apr 29 \n",
    "\n",
    "***You are welcome (and encouraged) to:***\n",
    "- use analytical and numerical computational tools -- specify the tool(s) in sourcecode and/or text;\n",
    "- reuse example sourcecode and other materials provided in this course;\n",
    "- consult textbooks, websites, and other publicly-available materials -- include full citation(s) with the URL and/or [DOI](https://en.wikipedia.org/wiki/Digital_object_identifier).\n",
    "\n",
    "***You are not permitted to discuss the exam problems or share any part of your solutions with anyone other than the instructional staff (Professor and/or TA[s]) for this course.***\n",
    "- By submitting your exam solution on Canvas, you are affirming your understanding of and adherence to these restrictions.\n",
    "- We will answer questions during the class Zoom meetings Tue and Thu of the exam week.\n",
    "- We will also answer questions posted to the Canvas Discussion board until 5p Fri of the exam week.\n",
    "\n",
    "***The exam deadline is midnight (11:59p) Fri on Canvas.***\n",
    "- Final submissions received before this deadline will receive +2 bonus points (equal to one subproblem).\n",
    "- Everyone automatically receives a deadline extension to midnight (11:59p) Sunday following the deadline. ***No further deadline extensions will be granted except in exceptional circumstances -- please plan accordingly, but do reach out if you need help.***"
   ]
  },
  {
   "cell_type": "markdown",
   "metadata": {
    "id": "MLdEIv7KJ_H-"
   },
   "source": [
    "# show your work and ensure figures, equations, and text are readable"
   ]
  },
  {
   "cell_type": "markdown",
   "metadata": {
    "id": "JLms0q_OolBH"
   },
   "source": [
    "# [your name]; [your pronouns]\n",
    "\n",
    "(a) *Approximately how many hours did you spend on this exam?*\n",
    "\n",
    "(b) *Were there specific problems that took much longer than others?*\n",
    "\n",
    "(c) *What class meeting(s) / office hour(s) did you participate in this week?*\n",
    "\n",
    "(d) *What timezone(s) were you working in this week?*"
   ]
  },
  {
   "cell_type": "markdown",
   "metadata": {
    "id": "k1AYZW3TlXtB"
   },
   "source": [
    "# problem 1"
   ]
  },
  {
   "cell_type": "markdown",
   "metadata": {
    "id": "k1AYZW3TlXtB"
   },
   "source": [
    "Consider the problem of minimizing $c:\\mathbb{R}^m\\rightarrow\\mathbb{R}$.  In particular, we seek to find $u^*\\in\\mathbb{R}^m$ such that $D c(u^*) = 0$ and $D^2 c(u^*) > 0$."
   ]
  },
  {
   "cell_type": "markdown",
   "metadata": {
    "id": "k1AYZW3TlXtB"
   },
   "source": [
    "## subproblem (a) \n",
    "The ***steepest descent*** difference equation (DE) for approximating $u^*$ is $u^+ = u - \\alpha\\, D c(u)^\\top$, where $\\alpha > 0$ is a *step size* parameter.\n",
    "\n",
    "Linearize the steepest descent DE about $u^*$ and show that the linearized DE is unstable when $\\alpha > 0$ is too large.  In other words:  (i) determine the matrix $A_\\alpha$ such that $\\delta u^+ \\approx A_\\alpha \\, \\delta u$ implies $u^+ \\approx u^* + \\delta u^+$ when $u = u^* + \\delta u$ and $\\delta u$ is small; and (ii) show that $A_\\alpha$ is unstable for $\\alpha > 0$ sufficiently large.  "
   ]
  },
  {
   "cell_type": "markdown",
   "metadata": {
    "id": "k1AYZW3TlXtB"
   },
   "source": [
    "## subproblem (b) \n",
    "The ***Newton-Raphson*** DE for approximating $u^*$ is $u^+ = u - \\left[ D^2 c(u^*) \\right]^{-1} Dc(u)^\\top$.\n",
    "\n",
    "Linearize the Newton-Raphson DE about $u^*$ and assess stability of the linearized DE.\n",
    "\n",
    "***Hint:*** you should find that the linearized DE in (b) is ***much*** more stable than the linearized DE in (a)."
   ]
  },
  {
   "cell_type": "markdown",
   "metadata": {},
   "source": [
    "# problem 2"
   ]
  },
  {
   "cell_type": "markdown",
   "metadata": {},
   "source": [
    "Consider the (CT-LTI) model\n",
    "$$\\dot{x} = Ax$$\n",
    "and the (DT-LTI) model\n",
    "$$\\bar{x}^+ = \\bar{A}\\bar{x}$$\n",
    "that is obtained by discretizing (CT-LTI) using *Forward Euler* or *Exact* discretization with step size $\\Delta > 0$:\n",
    "* Forward Euler:  $\\bar{x}^+ = \\bar{x} + \\Delta\\, A \\bar{x}$;\n",
    "* Exact:  $\\bar{x}^+ = e^{\\Delta\\, A} \\bar{x}^+$;\n",
    "\n",
    "***Hint:*** you should be able to determine how eigenvalues of the (DT-LTI) system relate to eigenvalues of the (CT-LTI) system."
   ]
  },
  {
   "cell_type": "markdown",
   "metadata": {},
   "source": [
    "## subproblem (a) \n",
    "\n",
    "If (CT-LTI) is exponentially stable, is the (DT-LTI) system obtained from Forward Euler discretization exponentially stable for all $\\Delta > 0$?"
   ]
  },
  {
   "cell_type": "markdown",
   "metadata": {},
   "source": [
    "## subproblem (b) \n",
    "Determine stability of the (DT-LTI) system obtained from Exact discretization when the (CT-LTI) system is (i) stable and (ii) unstable."
   ]
  },
  {
   "cell_type": "markdown",
   "metadata": {},
   "source": [
    "# problem 3"
   ]
  },
  {
   "cell_type": "markdown",
   "metadata": {},
   "source": [
    "(a) Given $A\\in\\mathbb{R}^{m\\times n}$, $B\\in\\mathbb{R}^{n\\times m}$ such that $(I - A\\, B)$ and $(I - B\\, A)$ are invertible, show that $A (I - B\\, A)^{-1} = (I - A\\, B)^{-1} A$."
   ]
  },
  {
   "attachments": {
    "image.png": {
     "image/png": "[encoded data removed]"
    }
   },
   "cell_type": "markdown",
   "metadata": {},
   "source": [
    "***Hint:*** it may help to consider the following MIMO system block diagram:\n",
    "\n",
    "![image.png](attachment:image.png)\n",
    "\n",
    "(b) Derive the transfer functions $T_{vu}$ and $T_{zu}$ and show that there is a tradeoff between the two of them.\n",
    "\n",
    "***Hint:*** it may help to use the formula you verified in (a)."
   ]
  },
  {
   "cell_type": "markdown",
   "metadata": {},
   "source": [
    "# problem 4\n",
    "\n",
    "Consider the control system below with input disturbance $v$ and output disturbance $w$.\n",
    "\n",
    "![](http://faculty.washington.edu/sburden/447/447-final-exam-block-diagram.png)\n",
    "\n",
    "You just started a new job as a ***Senior Control System Engineer*** at a startup company that is designing a quadrotor drone for power line inspection."
   ]
  },
  {
   "cell_type": "markdown",
   "metadata": {},
   "source": [
    "## subproblem (a)\n",
    "\n",
    "At this morning's all-hands meeting, the mechatronics team announces that electromagnetic interference introduces significant input disturbance $v$ and output disturbance $w$ at $60\\text{Hz}$, so your boss tasks you with designing controller $C$ to attenuate 90% of the effect of these disturbances on input $u$ and output $y$, i.e. with $T_{uv}$ denoting the transfer function from $v$ to $u$ and $T_{yw}$ denoting the transfer function from $w$ to $y$,\n",
    "\n",
    "$$|T_{uv}(j\\, 60\\text{Hz})| \\le 0.1,\\ |T_{yw}(j\\, 60\\text{Hz})| \\le 0.1. $$\n",
    "\n",
    "Determine whether it is possible to satisfy this specification, and explain your conclusion to your boss."
   ]
  },
  {
   "cell_type": "markdown",
   "metadata": {},
   "source": [
    "## subproblem (b)\n",
    "\n",
    "During this afternoon's stand-up meeting, the aerodynamics team points out that turbulent wind conditions cause broad-band input disturbance $v$, so your boss tasks you with changing the controller design, from $C$ to $\\widetilde{C}$, to decrease the impact of these disturbances on the input $u$ by 25% at all frequencies, i.e. with $T_{uv}$ denoting the transfer function from $v$ to $u$ obtained with controller $C$ and $\\widetilde{T}_{uv}$ denoting the transfer function obtained with controller $\\widetilde{C}$,\n",
    "\n",
    "$$ \\forall \\omega \\geq 0 : |\\widetilde{T}_{uv}(j\\,\\omega)| \\leq 0.75 |T_{uv}(j\\,\\omega)|. $$\n",
    "\n",
    "Determine whether it is possible to satisfy this specification, and explain your conclusion to your boss."
   ]
  },
  {
   "cell_type": "markdown",
   "metadata": {},
   "source": [
    "# problem 5\n",
    "\n",
    "Consider minimization of the infinite-horizon quadratic cost\n",
    "\n",
    "$$\n",
    "\\min \\int_0^\\infty x^\\top Q x + u^\\top R u,\\\n",
    "Q = q\\, \\left[ \\begin{array}{c} 1 \\\\ 1 \\end{array} \\right] \\left[ \\begin{array}{c} 1 & 1 \\end{array} \\right]\n",
    ",\\ \n",
    "q > 0\n",
    ",\\\n",
    "R = 1\n",
    "$$\n",
    "\n",
    "subject to the linear process model\n",
    "\n",
    "$$\n",
    "\\dot{x}\n",
    "=\n",
    "\\left[ \\begin{array}{c} 1 & 1 \\\\ 0 & 1 \\end{array} \\right]\n",
    "x\n",
    "+\n",
    "\\left[ \\begin{array}{c} 0 \\\\ 1 \\end{array} \\right]\n",
    "u.\n",
    "$$"
   ]
  },
  {
   "cell_type": "markdown",
   "metadata": {},
   "source": [
    "## subproblem (a) \n",
    "Implement an algorithm that determines the matrix $K_q$ such that $u = -K_q x$ minimizes the quadratic cost for a given $q > 0$; provide (i) your implementation and (ii) the value of $K_q$ when $q = 1$."
   ]
  },
  {
   "cell_type": "markdown",
   "metadata": {},
   "source": [
    "## subproblem (b) \n",
    "Suppose only the first component of state is observed and the controller from (a) is implemented using the state of an observer with gain matrix $L_q = K_q^\\top$.  Plot the gain margin of the closed-loop system as a function of $q$ over the range $q\\in(10^{-3},10^{+3})$."
   ]
  }
 ],
 "metadata": {
  "colab": {
   "collapsed_sections": [],
   "name": "548_21sp_exam1.ipynb",
   "provenance": []
  },
  "kernelspec": {
   "display_name": "Python 3",
   "language": "python",
   "name": "python3"
  },
  "language_info": {
   "codemirror_mode": {
    "name": "ipython",
    "version": 3
   },
   "file_extension": ".py",
   "mimetype": "text/x-python",
   "name": "python",
   "nbconvert_exporter": "python",
   "pygments_lexer": "ipython3",
   "version": "3.8.10"
  }
 },
 "nbformat": 4,
 "nbformat_minor": 1
}
