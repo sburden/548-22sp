{
 "cells": [
  {
   "cell_type": "markdown",
   "metadata": {
    "id": "4qz2av61Xgua"
   },
   "source": [
    "# 548 22sp exam2 due 11:59p Sat Jun 4\n",
    "\n",
    "***You are welcome (and encouraged) to:***\n",
    "- use analytical and numerical computational tools -- specify the tool(s) in sourcecode and/or text;\n",
    "- reuse example sourcecode and other materials provided in this course;\n",
    "- consult textbooks, websites, and other publicly-available materials -- include full citation(s) with the URL and/or [DOI](https://en.wikipedia.org/wiki/Digital_object_identifier).\n",
    "\n",
    "***You are not permitted to discuss the exam problems or share any part of your solutions with anyone other than the instructional staff (Professor and/or TA[s]) for this course.***\n",
    "- By submitting your exam solution on Canvas, you are affirming your understanding of and adherence to these restrictions.\n",
    "- We will answer questions during the class Zoom meetings Tue and Thu of the exam week.\n",
    "- We will also answer questions posted to the Canvas Discussion board until 5p Fri of the exam week.\n",
    "\n",
    "***The exam deadline is midnight (11:59p) Saturday on Canvas.***\n",
    "- Final submissions received before this deadline will receive +2 bonus points (equal to one subproblem).\n",
    "- Everyone automatically receives a deadline extension to midnight (11:59p) Sunday. ***No further deadline extensions will be granted except in exceptional circumstances -- please plan accordingly, but do reach out if you need help.***"
   ]
  },
  {
   "cell_type": "markdown",
   "metadata": {
    "id": "MLdEIv7KJ_H-"
   },
   "source": [
    "# show your work and ensure figures, equations, and text are readable"
   ]
  },
  {
   "cell_type": "markdown",
   "metadata": {
    "id": "JLms0q_OolBH"
   },
   "source": [
    "# [your name]; [your pronouns]\n",
    "\n",
    "(a) *Approximately how many hours did you spend on this exam?*\n",
    "\n",
    "(b) *Were there specific problems that took much longer than others?*\n",
    "\n",
    "(c) *What class meeting(s) / office hour(s) did you participate in this week?*\n",
    "\n",
    "(d) *What timezone(s) were you working in this week?*"
   ]
  },
  {
   "cell_type": "markdown",
   "metadata": {
    "id": "k1AYZW3TlXtB"
   },
   "source": [
    "# design problem\n",
    "\n",
    "***The entire exam will be devoted to the following design problem, with the goal of providing an opportunity to apply all of the key techniques we learned this quarter to a single system.***"
   ]
  },
  {
   "cell_type": "markdown",
   "metadata": {
    "id": "k1AYZW3TlXtB"
   },
   "source": [
    "Consider the simplified vertical-plane quadrotor model\n",
    "$$ M\\ddot{\\eta} = F\\sin\\theta, $$\n",
    "$$ M\\ddot{\\nu} = -Mg + F\\cos\\theta, $$\n",
    "$$ I\\ddot{\\theta} = \\tau $$\n",
    "where ($\\eta$, $\\nu$) denote the quadrotor (horizontal, vertical) position and $\\theta$ denotes the quadrotor's rotation, ($M$, $I$) denote quadrotor (mass, inertia), $g$ is acceleration due to gravity, and ($F$, $\\tau$) denote the net (thrust, torque) applied by the spinning rotors.\n",
    "\n",
    "With $q = (\\eta,\\nu,\\theta)\\in\\mathbb{R}^3$ denoting positions and $\\dot{q} = \\frac{d\\ }{dt} q = (\\dot{\\eta},\\dot{\\nu},\\dot{\\theta})\\in\\mathbb{R}^3$ denoting velocities,\n",
    "the state vector is $x = (q,\\dot{q})\\in\\mathbb{R}^6$,\n",
    "and\n",
    "the input vector is $u = (F,\\tau)\\in\\mathbb{R}^2$.\n",
    "\n",
    "If we measure or observe positions ($\\eta$, $\\nu$), e.g. with GPS, then the nonlinear (NL) control system model is\n",
    "$$ \\text{(NL)}\\quad \\dot{x} = \\frac{d}{dt}\\left[\\begin{array}{c} q \\\\ \\dot{q} \\end{array}\\right] = \\left[\\begin{array}{c} \\dot{q} \\\\ \\ddot{q}(x,u) \\end{array}\\right] = f(x,u),\\ y = h(x) $$\n",
    "where $\\ddot{q} : \\mathbb{R}^6 \\times \\mathbb{R}^2 \\rightarrow \\mathbb{R}^3$ is defined by \n",
    "$$\\ddot{q}(x,u) = \\left[\\begin{array}{c} \\frac{F}{M}\\sin\\theta \\\\ -g + \\frac{F}{M}\\cos\\theta \\\\ \\frac{\\tau}{I}\\end{array}\\right],$$ \n",
    "and $h : \\mathbb{R}^6 \\rightarrow \\mathbb{R}^2$ is defined by \n",
    "$$h(x) = (\\eta,\\nu).$$\n",
    "\n",
    "Use the following parameter values for numerical simulations:  $M = 1\\,\\text{kg}$, $I = 0.01\\,\\text{kg}\\,\\text{m}^2$, $g = 9.81\\,\\text{m}\\,\\text{sec}^{-2}$.\n",
    "\n",
    "For more details about this model and a schematic diagram, refer to [this paper](http://dx.doi.org/10.1109/ROBOT.2010.5509452)."
   ]
  },
  {
   "cell_type": "markdown",
   "metadata": {},
   "source": [
    "# part 1:  discrete-time, finite-horizon"
   ]
  },
  {
   "cell_type": "markdown",
   "metadata": {
    "id": "k1AYZW3TlXtB"
   },
   "source": [
    "## subproblem (a)\n",
    "\n",
    "Discretize the nonlinear system:  choose a step size $\\Delta > 0$ and time horizon $T \\gg \\Delta$ so that the *forward Euler* approximation $x(t + \\Delta) \\approx x(t) + \\Delta\\, f(x(t),u(t))$ yields reasonably good approximation of trajectories on the time interval $t\\in [0,T]$.  Provide plots that show the approximation is reasonable by simulating the nonlinear system twice -- once with your chosen step size $\\Delta$, and once with step size $\\nabla \\ll \\Delta$; the second simulation will be used as the \"ground truth\".  Use non-constant input signals $F$ and $\\tau$ in your simulation.\n",
    "\n",
    "***Note:*** there is no one right choice for $\\Delta$, but it will be helpful in what follows if you choose a large step size."
   ]
  },
  {
   "cell_type": "markdown",
   "metadata": {
    "id": "k1AYZW3TlXtB"
   },
   "source": [
    "## subproblem (b) \n",
    "\n",
    "Find an equilibrium $(x_0,u_0)$ for the discretized nonlinear system and linearize the dynamics around this equilibrium to obtain a discrete-time linear time-invariant (DT-LTI) control system model:  determine $A$, $B$, $C$, $D$ such that, with $\\delta x = x - x_0$, $\\delta u = u - u_0$, and $\\delta y = y - y_0$ where $y_0 = h(x_0,u_0)$, we have $x^+ \\approx x_0 + \\delta x^+$ and $y \\approx y_0 + \\delta y$ where \n",
    "\n",
    "$$ \\text{(DT-LTI)}\\quad \\delta x^+ = A\\, \\delta x + B\\, \\delta u,\\ \\delta y = C\\, \\delta x + D\\, \\delta u.$$"
   ]
  },
  {
   "cell_type": "markdown",
   "metadata": {
    "id": "k1AYZW3TlXtB"
   },
   "source": [
    "## subproblem (c)\n",
    "\n",
    "Choose $Q$ and $R$ matrices and solve the finite-horizon LQR problem to synthesize an LTV state-feedback controller for the LTI control system on the time horizon $T$ you chose above.  Run a simulation of the controlled system and provide plots of the state $\\delta x$, control $\\delta u$, and output $\\delta y$ time series."
   ]
  },
  {
   "cell_type": "markdown",
   "metadata": {
    "id": "k1AYZW3TlXtB"
   },
   "source": [
    "## subproblem (d) \n",
    "\n",
    "Choose square nonsingular matrices $V_1$ and $V_2$ that multiply standard normal random vectors $w_1\\in\\mathbb{R}^3$ and $w_2\\in\\mathbb{R}^2$ to model process and measurement noise,\n",
    "\n",
    "$$ \\delta x^+ = A\\, \\delta x + B\\, \\delta u + \\left[\\begin{array}{c} 0 \\\\ V_1 \\end{array}\\right] w_1 ,\\ \\delta y = C\\, \\delta x + D\\, \\delta u + V_2 w_2.$$\n",
    "\n",
    "Solve the finite-horizon Kalman Filtering problem to synthesize an LTV observer for the LTI control system.  Run a simulation of the LTI system including samples from the process and measurement noise distributions you chose and non-constant input signals, use the resulting data to run a simulation of your LTV Kalman Filter, and provide plots of: the state $\\delta x$ and your estimate $\\delta\\hat{x}$; the noisy output $\\delta y$, noise-free output, and observer output $\\delta\\hat{y}$."
   ]
  },
  {
   "cell_type": "markdown",
   "metadata": {
    "id": "k1AYZW3TlXtB"
   },
   "source": [
    "## subproblem (e) \n",
    "\n",
    "Combine your LQR state-feedback law and Kalman Filter observer to obtain a time-varying linear-quadratic Gaussian (LQG) regulator.  Run a simulation of the closed-loop system obtained from the feedback interconnection of the LTI system and your LQG regulator.  Provide plots of: the state $\\delta x$ and your estimate $\\delta\\hat{x}$; the noisy output $\\delta y$, noise-free output, and observer output $\\delta\\hat{y}$."
   ]
  },
  {
   "cell_type": "markdown",
   "metadata": {
    "id": "k1AYZW3TlXtB"
   },
   "source": [
    "## subproblem (f) \n",
    "\n",
    "Now apply your LQG regulator to the discretized nonlinear system.  Run a simulation of the closed-loop system obtained from the feedback interconnection of the DT-NL system and your LQG regulator.  Provide plots comparing: the state $x$ and your estimate $\\delta\\hat{x}$; the noisy output $y$, noise-free output, and observer output $\\delta\\hat{y}$."
   ]
  },
  {
   "cell_type": "markdown",
   "metadata": {
    "id": "k1AYZW3TlXtB"
   },
   "source": [
    "# interlude\n",
    "\n",
    "Reinterpreting the DT-LTI system above as a continuous-time process $P$ in the form expected for robust controller synthesis with inputs $w,\\delta u$ and outputs $z,\\delta y$ yields\n",
    "\n",
    "$$\n",
    "\\delta \\dot{x} = \\bar{A}\\, \\delta x + B_1 w + B_2\\, \\delta u,\\\\\n",
    "z = C_1\\, \\delta x + D_{11} w + D_{12}\\, \\delta u,\\\\\n",
    "\\delta y = C_2\\, \\delta x + D_{21} w + D_{22}\\, \\delta u\n",
    "$$\n",
    "\n",
    "where $\\bar{A} = \\frac{1}{\\Delta}(A - I)$ and\n",
    "\n",
    "$$\n",
    "B_1 = \\left[ \\begin{array}{cc} 0 & 0 \\\\ \\frac{1}{\\Delta}V_1 & 0 \\end{array} \\right],\\\n",
    "B_2 = B,\n",
    "$$\n",
    "\n",
    "$$\n",
    "C_1 = \\left[ \\begin{array}{c} \\sqrt{\\frac{1}{\\Delta}Q} \\\\ 0 \\end{array} \\right],\\\n",
    "D_{11} = 0,\\\n",
    "D_{12} = \\left[ \\begin{array}{c} 0 \\\\ \\sqrt{\\frac{1}{\\Delta}R}  \\end{array} \\right],\n",
    "$$\n",
    "\n",
    "$$\n",
    "C_2 = \\left[ \\begin{array}{cc} C & 0 \\end{array} \\right],\\\n",
    "D_{21} = \\left[ \\begin{array}{cc} 0 & \\frac{1}{\\Delta}V_2 \\end{array} \\right],\\\n",
    "D_{22} = D.\n",
    "$$"
   ]
  },
  {
   "cell_type": "markdown",
   "metadata": {},
   "source": [
    "# part 2:  continuous-time, infinite-horizon"
   ]
  },
  {
   "cell_type": "markdown",
   "metadata": {
    "id": "k1AYZW3TlXtB"
   },
   "source": [
    "## subproblem (g) \n",
    "\n",
    "Use `control.h2syn`, i.e. the $H_2$ controller synthesis routine from the Control Systems Toolbox, to determine a dynamic regulator for $P$ that minimizes the $H_2$ norm of the closed-loop frequency-domain transformation from $w$ to $z$.  Discretize the resulting state-space regulator with the timestep $\\Delta$ from part 1(a) and run a simulation of the closed-loop system obtained from the feedback interconnection of the DT-LTI system and your discretized $H_2$ regulator.  Provide plots comparing: the state $\\delta x$ and your estimate $\\delta\\hat{x}$; the noise-free output $\\delta y$, noisy output, and observer output $\\delta\\hat{y}$.\n",
    "\n",
    "***Hint:*** use the following arguments to `h2syn`: `P = ctrl.ss(A,B,C,D)`, `nmeas = 2`, `ncont = 2` where\n",
    "\n",
    "$$\n",
    "B = \\left[ \\begin{array}{c} B_1 & B_2 \\end{array} \\right],\\\n",
    "C = \\left[ \\begin{array}{cc} C_1 \\\\ C_2 \\end{array} \\right],\\\n",
    "D = \\left[ \\begin{array}{cc} D_{11} & D_{12} \\\\ D_{21} & D_{22} \\end{array} \\right].\n",
    "$$"
   ]
  },
  {
   "cell_type": "markdown",
   "metadata": {},
   "source": [
    "## subproblem (h) \n",
    "\n",
    "Repeat the previous subproblem, but this time apply your compensator to the discrete-time *nonlinear* system from part 1(a).  By trial-and-error, determine how large $\\Delta$ can be before the closed-loop system goes unstable -- denote that critical step size as $\\bar{\\Delta}$.  Provide the same plots from the previous subproblem for two values of $\\Delta$:  one for which the closed-loop system is stable, and one for which the closed-loop system is (just barely) unstable."
   ]
  },
  {
   "cell_type": "markdown",
   "metadata": {
    "id": "k1AYZW3TlXtB"
   },
   "source": [
    "## subproblem (i) \n",
    "\n",
    "Repeat (g), but use `control.hinfsyn`, i.e. the $H_\\infty$ controller synthesis routine from the Control Systems Toolbox, to determine a dynamic regulator for $P$ that minimizes the $H_\\infty$ norm of the closed-loop frequency-domain transformation from $w$ to $z$ (which happens to equal the induced norm of the closed-loop time-domain transformation from $w$ to $z$)."
   ]
  },
  {
   "cell_type": "markdown",
   "metadata": {},
   "source": [
    "## subproblem (j)\n",
    "\n",
    "Repeat (h), but use `control.hinfsyn`, and compare the $\\bar{\\Delta}$'s from (h) and (j)."
   ]
  }
 ],
 "metadata": {
  "colab": {
   "collapsed_sections": [],
   "name": "548_21sp_exam1.ipynb",
   "provenance": []
  },
  "kernelspec": {
   "display_name": "Python 3",
   "language": "python",
   "name": "python3"
  },
  "language_info": {
   "codemirror_mode": {
    "name": "ipython",
    "version": 3
   },
   "file_extension": ".py",
   "mimetype": "text/x-python",
   "name": "python",
   "nbconvert_exporter": "python",
   "pygments_lexer": "ipython3",
   "version": "3.8.10"
  }
 },
 "nbformat": 4,
 "nbformat_minor": 1
}
