{
 "cells": [
  {
   "cell_type": "markdown",
   "metadata": {
    "id": "4qz2av61Xgua"
   },
   "source": [
    "# 548 hw4 solution"
   ]
  },
  {
   "cell_type": "markdown",
   "metadata": {
    "id": "PDGjhHrlP14h"
   },
   "source": [
    "# linear-quadratic regulation\n",
    "\n",
    "***Purpose:***  *control a nonlinear system near an equilibrium by linearizing and applying the infinite-horizon linear-quadratic regulator.*\n",
    "\n",
    "Consider the continuous-time nonlinear system (NL) from HW2 that models a pendulum:\n",
    "\n",
    "$$m \\ell^2 \\ddot{q} + m g \\ell \\sin q = \\ell u - \\ell b \\dot{q}.$$\n",
    "\n",
    "Recall from HW3 that choosing $x = (q,\\dot{q})$ and linearizing (NL) about the unstable equilibrium $(x_0, u_0) = ((\\pi,0), 0)$ yields the unstable continuous-time linear time-invariant system (LTI)\n",
    "\n",
    "$$ \\delta \\dot{x} = A \\delta x + B \\delta u,\\ A \n",
    "= \n",
    "\\left[\\begin{array}{c} 0 &  1\\\\ \\frac{g}{\\ell} &  -\\frac{b}{m\\ell} \\end{array}\\right],\\ B = \\left[\\begin{array}{c} 0 \\\\ \\frac{1}{m\\ell} \\end{array}\\right].$$\n",
    "\n",
    "Use parameter values $m = 1\\ \\text{kg}$, $\\ell = 1\\ \\text{m}$, $g = 10\\ \\text{m/sec}^2$, $b = 1$, in the following problems.\n",
    "\n",
    "(a) *Implement an algorithm that solves the continuous-time linear-quadratic regulation (CT-LQR) problem for (LTI) with the infinite-horizon cost function*\n",
    "$$ \\frac{1}{2} \\int_0^\\infty q\\, \\delta x_t^\\top \\delta x_t + r\\, \\delta u_t^\\top \\delta u_t\\, dt $$\n",
    "*to obtain $K$ such that $\\delta u^* = - K \\delta x$ is the optimal input to apply when the state of (LTI) is $\\delta x$.*\n",
    "\n",
    "***Hint:*** it is possible to solve this problem symbolically (e.g. using `SymPy` to solve the Riccati equation -- be careful to ensure the $P$ solution you choose is positive-definite!) or numerically (e.g. by simulating the Riccati DE backward in time on a long time horizon -- be careful to ensure the time horizon is long enough!).  Or, if you want a one-liner, you can find and use a computational tool.\n",
    "\n",
    "(b) *Fix $r = 1$ and plot the entries of $K$ as a function of the ratio $q / r$ over a range that includes $q = r = 1$; describe the trend you observe in the graph in practical terms -- recall that $q$ quantifies the cost of \"error\" and $r$ quantifies the cost of \"effort\".*\n",
    "\n",
    "(c) *Fix $r = 1$ and plot the real part of the eigenvalues of the closed-loop system matrix $A - B K$ as a function of the ratio $q / r$ over a range that includes $q = r = 1$; what property does the closed-loop system have?*\n",
    "\n",
    "(d) *Simulate the closed-loop dynamics for (LTI) twice:  once with $q \\gg r$ and once with $q \\ll r$, and provide plots illustrating the results; describe the difference you observe in the two cases with reference to your explanation in (b).*\n",
    "\n",
    "(e) *Simulate the closed-loop dynamics for (NL) twice:  once with $q \\gg r$ and once with $q \\ll r$, and provide plots illustrating the results; how does the result compare with your result in (d)?*\n"
   ]
  },
  {
   "cell_type": "markdown",
   "metadata": {
    "id": "6PdWKYS4Ydee"
   },
   "source": [
    "***Note:*** the solution to this problem is more interesting if $Q = \\left[\\begin{array}{c} q &  0\\\\ 0 & 0 \\end{array}\\right]$ rather than $Q = q I$ as in the statement above -- the solution below will focus on this \"more interesting\" case, but you can obtain the solution to the \"less interesting\" case by swapping out one line of code that will be highlighted below."
   ]
  },
  {
   "cell_type": "markdown",
   "metadata": {
    "id": "qi1PjBHoVp45"
   },
   "source": [
    "## (a) solution"
   ]
  },
  {
   "cell_type": "code",
   "execution_count": 2,
   "metadata": {
    "executionInfo": {
     "elapsed": 822,
     "status": "ok",
     "timestamp": 1622664506043,
     "user": {
      "displayName": "Sam Burden",
      "photoUrl": "https://lh3.googleusercontent.com/a-/AOh14GjApr-2gPPda0DddsKtZiaMzZ8YWbPkAT9JP0pG=s64",
      "userId": "06088542255363958083"
     },
     "user_tz": 420
    },
    "id": "SxBnnteXTvtA"
   },
   "outputs": [],
   "source": [
    "import sympy as sym\n",
    "\n",
    "m,l,g,b = sym.symbols(r'm, \\ell, g, b')\n",
    "\n",
    "A = sym.Matrix([[0,1],[g/l,-b/(m*l)]])\n",
    "B = sym.Matrix([[0],[1/(m*l)]])\n",
    "\n",
    "q,r = sym.symbols(r'q, r',real=True,positive=True)"
   ]
  },
  {
   "cell_type": "code",
   "execution_count": 3,
   "metadata": {
    "executionInfo": {
     "elapsed": 10,
     "status": "ok",
     "timestamp": 1622664506048,
     "user": {
      "displayName": "Sam Burden",
      "photoUrl": "https://lh3.googleusercontent.com/a-/AOh14GjApr-2gPPda0DddsKtZiaMzZ8YWbPkAT9JP0pG=s64",
      "userId": "06088542255363958083"
     },
     "user_tz": 420
    },
    "id": "Cg6o9z75Y7Cm"
   },
   "outputs": [],
   "source": [
    "# less interesting\n",
    "Q = q*sym.Matrix.eye(2)"
   ]
  },
  {
   "cell_type": "code",
   "execution_count": 4,
   "metadata": {
    "executionInfo": {
     "elapsed": 8,
     "status": "ok",
     "timestamp": 1622664506049,
     "user": {
      "displayName": "Sam Burden",
      "photoUrl": "https://lh3.googleusercontent.com/a-/AOh14GjApr-2gPPda0DddsKtZiaMzZ8YWbPkAT9JP0pG=s64",
      "userId": "06088542255363958083"
     },
     "user_tz": 420
    },
    "id": "oEqBKgWAY8gX"
   },
   "outputs": [],
   "source": [
    "# more interesting\n",
    "Q = q*sym.Matrix([[1,0],[0,0]])"
   ]
  },
  {
   "cell_type": "code",
   "execution_count": 5,
   "metadata": {
    "colab": {
     "base_uri": "https://localhost:8080/",
     "height": 49
    },
    "executionInfo": {
     "elapsed": 2367,
     "status": "ok",
     "timestamp": 1622664510307,
     "user": {
      "displayName": "Sam Burden",
      "photoUrl": "https://lh3.googleusercontent.com/a-/AOh14GjApr-2gPPda0DddsKtZiaMzZ8YWbPkAT9JP0pG=s64",
      "userId": "06088542255363958083"
     },
     "user_tz": 420
    },
    "id": "DUND2C9TY7qN",
    "outputId": "86d9fb4e-d0ea-44ed-9fed-8195166876a4"
   },
   "outputs": [
    {
     "data": {
      "text/latex": [
       "$\\displaystyle \\left[\\begin{matrix}\\frac{\\sqrt{r} \\sqrt{q + 100 r} + 10 r}{r} & \\frac{- r + \\sqrt{2 r^{\\frac{3}{2}} \\sqrt{q + 100 r} + 21 r^{2}}}{r}\\end{matrix}\\right]$"
      ],
      "text/plain": [
       "Matrix([[(sqrt(r)*sqrt(q + 100*r) + 10*r)/r, (-r + sqrt(2*r**(3/2)*sqrt(q + 100*r) + 21*r**2))/r]])"
      ]
     },
     "execution_count": 5,
     "metadata": {},
     "output_type": "execute_result"
    }
   ],
   "source": [
    "R = r*sym.Matrix.eye(1)\n",
    "\n",
    "P1,P12,P2 = sym.symbols(r'P_1, P_{12}, P_2',real=True,positive=True)\n",
    "\n",
    "P = sym.Matrix([[P1,P12],[P12,P2]])\n",
    "\n",
    "# note:  there is only one positive-definite solution\n",
    "sol = sym.solve(A.T @ P + P @ A - P @ B @ R.inv() @ B.T @ P + Q,P)[3]\n",
    "P_ = P.subs({P1:sol[0],P12:sol[1],P2:sol[2]})\n",
    "\n",
    "K_ = (R.inv() @ B.T @ P_).subs({m:1,l:1,g:10,b:1})\n",
    "K_"
   ]
  },
  {
   "cell_type": "markdown",
   "metadata": {
    "id": "RjJBi0VUUVr0"
   },
   "source": [
    "## (b) solution"
   ]
  },
  {
   "cell_type": "code",
   "execution_count": 6,
   "metadata": {
    "executionInfo": {
     "elapsed": 304,
     "status": "ok",
     "timestamp": 1622664585440,
     "user": {
      "displayName": "Sam Burden",
      "photoUrl": "https://lh3.googleusercontent.com/a-/AOh14GjApr-2gPPda0DddsKtZiaMzZ8YWbPkAT9JP0pG=s64",
      "userId": "06088542255363958083"
     },
     "user_tz": 420
    },
    "id": "-YaNG5msVvHx"
   },
   "outputs": [],
   "source": [
    "_K = sym.lambdify(q,K_.subs({r:1}))"
   ]
  },
  {
   "cell_type": "code",
   "execution_count": 7,
   "metadata": {
    "executionInfo": {
     "elapsed": 4,
     "status": "ok",
     "timestamp": 1622664585441,
     "user": {
      "displayName": "Sam Burden",
      "photoUrl": "https://lh3.googleusercontent.com/a-/AOh14GjApr-2gPPda0DddsKtZiaMzZ8YWbPkAT9JP0pG=s64",
      "userId": "06088542255363958083"
     },
     "user_tz": 420
    },
    "id": "Ory_F5ooWWd-"
   },
   "outputs": [],
   "source": [
    "import numpy as np\n",
    "\n",
    "o = np.logspace(-1,5)\n",
    "Ko = np.vstack([_K(_o) for _o in o])"
   ]
  },
  {
   "cell_type": "code",
   "execution_count": 8,
   "metadata": {
    "colab": {
     "base_uri": "https://localhost:8080/",
     "height": 297
    },
    "executionInfo": {
     "elapsed": 365,
     "status": "ok",
     "timestamp": 1622664586126,
     "user": {
      "displayName": "Sam Burden",
      "photoUrl": "https://lh3.googleusercontent.com/a-/AOh14GjApr-2gPPda0DddsKtZiaMzZ8YWbPkAT9JP0pG=s64",
      "userId": "06088542255363958083"
     },
     "user_tz": 420
    },
    "id": "tldWVmFiWeZ_",
    "outputId": "c3b46fcf-950a-4e46-84e9-ce0eb45a64e5"
   },
   "outputs": [
    {
     "data": {
      "image/png": "[encoded data removed]",
      "text/plain": [
       "<Figure size 432x288 with 1 Axes>"
      ]
     },
     "metadata": {
      "needs_background": "light"
     },
     "output_type": "display_data"
    }
   ],
   "source": [
    "import pylab as plt\n",
    "\n",
    "plt.plot(o,Ko)\n",
    "plt.xlabel(r'$q/r$')\n",
    "plt.ylabel(r'$K(q/r)$')\n",
    "\n",
    "plt.tight_layout()"
   ]
  },
  {
   "cell_type": "markdown",
   "metadata": {
    "id": "II6QxGrcYdLp"
   },
   "source": [
    "## (c) solution\n",
    "\n"
   ]
  },
  {
   "cell_type": "code",
   "execution_count": 9,
   "metadata": {
    "executionInfo": {
     "elapsed": 15,
     "status": "ok",
     "timestamp": 1622664587060,
     "user": {
      "displayName": "Sam Burden",
      "photoUrl": "https://lh3.googleusercontent.com/a-/AOh14GjApr-2gPPda0DddsKtZiaMzZ8YWbPkAT9JP0pG=s64",
      "userId": "06088542255363958083"
     },
     "user_tz": 420
    },
    "id": "0kaNeUgKYimm"
   },
   "outputs": [],
   "source": [
    "A_BK = (A - B @ K_).subs({m:1,l:1,g:10,b:1})\n",
    "_A_BK = sym.lambdify(q,A_BK.subs({r:1}))"
   ]
  },
  {
   "cell_type": "code",
   "execution_count": 10,
   "metadata": {
    "colab": {
     "base_uri": "https://localhost:8080/",
     "height": 297
    },
    "executionInfo": {
     "elapsed": 1502,
     "status": "ok",
     "timestamp": 1622664590034,
     "user": {
      "displayName": "Sam Burden",
      "photoUrl": "https://lh3.googleusercontent.com/a-/AOh14GjApr-2gPPda0DddsKtZiaMzZ8YWbPkAT9JP0pG=s64",
      "userId": "06088542255363958083"
     },
     "user_tz": 420
    },
    "id": "n-tVCooqYm9V",
    "outputId": "b482d7c4-f05f-4f3b-e68d-be90426b642c"
   },
   "outputs": [
    {
     "data": {
      "image/png": "[encoded data removed]",
      "text/plain": [
       "<Figure size 432x288 with 1 Axes>"
      ]
     },
     "metadata": {
      "needs_background": "light"
     },
     "output_type": "display_data"
    }
   ],
   "source": [
    "e = np.vstack([np.linalg.eigvals(_A_BK(_o)) for _o in o])\n",
    "\n",
    "plt.semilogx(o,e.real)\n",
    "plt.semilogx(o[[0,-1]],[0,0],'r--')\n",
    "plt.xlabel(r'$q/r$')\n",
    "plt.ylabel(r'real part of eigenvalues of $(A - B K(q/r))$')\n",
    "\n",
    "plt.tight_layout()"
   ]
  },
  {
   "cell_type": "markdown",
   "metadata": {
    "id": "U6GLqs3IbP2w"
   },
   "source": [
    "Since eigenvalues always have negative real part, the closed-loop system is stable for any choice of ratio $q/r$."
   ]
  },
  {
   "cell_type": "code",
   "execution_count": 11,
   "metadata": {
    "executionInfo": {
     "elapsed": 415,
     "status": "ok",
     "timestamp": 1622664595144,
     "user": {
      "displayName": "Sam Burden",
      "photoUrl": "https://lh3.googleusercontent.com/a-/AOh14GjApr-2gPPda0DddsKtZiaMzZ8YWbPkAT9JP0pG=s64",
      "userId": "06088542255363958083"
     },
     "user_tz": 420
    },
    "id": "CqTxoZS4ZAto"
   },
   "outputs": [],
   "source": [
    "def numerical_simulation(f,t,x,t0=0.,dt=1e-4,ut=None,ux=None,utx=None,return_u=False):\n",
    "  \"\"\"\n",
    "  simulate x' = f(x,u) \n",
    "\n",
    "  input:\n",
    "    f : R x X x U --> X - vector field\n",
    "      X - state space (must be vector space)\n",
    "      U - control input set\n",
    "    t - scalar - final simulation time\n",
    "    x - initial condition; element of X\n",
    "\n",
    "    (optional:)\n",
    "    t0 - scalar - initial simulation time\n",
    "    dt - scalar - stepsize parameter\n",
    "    return_u - bool - whether to return u_\n",
    "\n",
    "    (only one of:)\n",
    "    ut : R --> U\n",
    "    ux : X --> U\n",
    "    utx : R x X --> U\n",
    "\n",
    "  output:\n",
    "    t_ - N array - time trajectory\n",
    "    x_ - N x X array - state trajectory\n",
    "    (if return_u:)\n",
    "    u_ - N x U array - state trajectory\n",
    "  \"\"\"\n",
    "  t_,x_,u_ = [t0],[x],[]\n",
    "  \n",
    "  inputs = sum([1 if u is not None else 0 for u in [ut,ux,utx]])\n",
    "  assert inputs <= 1, \"more than one of ut,ux,utx defined\"\n",
    "\n",
    "  if inputs == 0:\n",
    "    assert not return_u, \"no input supplied\"\n",
    "  else:\n",
    "    if ut is not None:\n",
    "      u = lambda t,x : ut(t)\n",
    "    elif ux is not None:\n",
    "      u = lambda t,x : ux(x)\n",
    "    elif utx is not None:\n",
    "      u = lambda t,x : utx(t,x)\n",
    "\n",
    "  while t_[-1]+dt < t:\n",
    "    if inputs == 0:\n",
    "      _t,_x = t_[-1],x_[-1]\n",
    "      dx = f(t_[-1],x_[-1]) * dt\n",
    "    else:\n",
    "      _t,_x,_u = t_[-1],x_[-1],u(t_[-1],x_[-1])\n",
    "      dx = f(_t,_x,_u) * dt\n",
    "      u_.append( _u )\n",
    "\n",
    "    x_.append( _x + dx )\n",
    "    t_.append( _t + dt )\n",
    "\n",
    "  if return_u:\n",
    "    return np.asarray(t_),np.asarray(x_),np.asarray(u_)\n",
    "  else:\n",
    "    return np.asarray(t_),np.asarray(x_)"
   ]
  },
  {
   "cell_type": "markdown",
   "metadata": {
    "id": "IrsolCvqZU_9"
   },
   "source": [
    "## (d) solution"
   ]
  },
  {
   "cell_type": "markdown",
   "metadata": {
    "id": "2xDO38RRZksM"
   },
   "source": [
    "Based on the plot of the eigenvalues as a function of the ratio from (c), it looks like $q/r = 1$ and $q/r = 1000$ give significantly different results that capture the qualitative differences."
   ]
  },
  {
   "cell_type": "code",
   "execution_count": 12,
   "metadata": {
    "colab": {
     "base_uri": "https://localhost:8080/",
     "height": 49
    },
    "executionInfo": {
     "elapsed": 283,
     "status": "ok",
     "timestamp": 1622665052015,
     "user": {
      "displayName": "Sam Burden",
      "photoUrl": "https://lh3.googleusercontent.com/a-/AOh14GjApr-2gPPda0DddsKtZiaMzZ8YWbPkAT9JP0pG=s64",
      "userId": "06088542255363958083"
     },
     "user_tz": 420
    },
    "id": "VElblKMkWNzP",
    "outputId": "e20cd823-3c10-4319-fef2-71ba5e59cc6b"
   },
   "outputs": [
    {
     "data": {
      "text/latex": [
       "$\\displaystyle \\left[\\begin{matrix}\\frac{\\sqrt{r} \\sqrt{q + 100 r} + 10 r}{r} & \\frac{- r + \\sqrt{2 r^{\\frac{3}{2}} \\sqrt{q + 100 r} + 21 r^{2}}}{r}\\end{matrix}\\right]$"
      ],
      "text/plain": [
       "Matrix([[(sqrt(r)*sqrt(q + 100*r) + 10*r)/r, (-r + sqrt(2*r**(3/2)*sqrt(q + 100*r) + 21*r**2))/r]])"
      ]
     },
     "execution_count": 12,
     "metadata": {},
     "output_type": "execute_result"
    }
   ],
   "source": [
    "K_.subs({m:1,l:1,g:10,b:1})"
   ]
  },
  {
   "cell_type": "code",
   "execution_count": 13,
   "metadata": {
    "colab": {
     "base_uri": "https://localhost:8080/",
     "height": 297
    },
    "executionInfo": {
     "elapsed": 2451,
     "status": "ok",
     "timestamp": 1622665097601,
     "user": {
      "displayName": "Sam Burden",
      "photoUrl": "https://lh3.googleusercontent.com/a-/AOh14GjApr-2gPPda0DddsKtZiaMzZ8YWbPkAT9JP0pG=s64",
      "userId": "06088542255363958083"
     },
     "user_tz": 420
    },
    "id": "RC7rZXfYZWdI",
    "outputId": "f37820cb-c71c-478c-c715-aa3cf6ffcfa3"
   },
   "outputs": [
    {
     "name": "stderr",
     "output_type": "stream",
     "text": [
      "<ipython-input-13-a5e212ea6f9d>:1: DeprecationWarning: `np.float` is a deprecated alias for the builtin `float`. To silence this warning, use `float` by itself. Doing this will not modify any behavior and is safe. If you specifically wanted the numpy scalar type, use `np.float64` here.\n",
      "Deprecated in NumPy 1.20; for more details and guidance: https://numpy.org/devdocs/release/1.20.0-notes.html#deprecations\n",
      "  _A_ = np.asarray(A.subs({m:1,l:1,g:10,b:1}),dtype=np.float)\n",
      "<ipython-input-13-a5e212ea6f9d>:2: DeprecationWarning: `np.float` is a deprecated alias for the builtin `float`. To silence this warning, use `float` by itself. Doing this will not modify any behavior and is safe. If you specifically wanted the numpy scalar type, use `np.float64` here.\n",
      "Deprecated in NumPy 1.20; for more details and guidance: https://numpy.org/devdocs/release/1.20.0-notes.html#deprecations\n",
      "  _B_ = np.asarray(B.subs({m:1,l:1,g:10,b:1}),dtype=np.float)\n"
     ]
    },
    {
     "data": {
      "image/png": "[encoded data removed]",
      "text/plain": [
       "<Figure size 432x288 with 2 Axes>"
      ]
     },
     "metadata": {
      "needs_background": "light"
     },
     "output_type": "display_data"
    }
   ],
   "source": [
    "_A_ = np.asarray(A.subs({m:1,l:1,g:10,b:1}),dtype=np.float)\n",
    "_B_ = np.asarray(B.subs({m:1,l:1,g:10,b:1}),dtype=np.float)\n",
    "\n",
    "t = 4\n",
    "x0 = [1,0]\n",
    "\n",
    "def LTI(t,x,_K_):\n",
    "  u = -np.dot(x, _K_.T)\n",
    "  dx = np.dot(x,_A_.T) + np.dot(u,_B_.T)\n",
    "  return dx\n",
    "\n",
    "q_r = 1\n",
    "t_,x_1 = numerical_simulation(lambda t,x : LTI(t,x,_K(q_r)),t,x0)\n",
    "u_1 = np.dot(x_1,_K(q_r).T)\n",
    "\n",
    "q_r = 1000\n",
    "t_,x_1000 = numerical_simulation(lambda t,x : LTI(t,x,_K(q_r)),t,x0)\n",
    "u_1000 = np.dot(x_1000,_K(q_r).T)\n",
    "\n",
    "plt.figure()\n",
    "plt.subplot(2,1,1)\n",
    "plt.plot(t_,x_1,'b',label=r'$q/r = 1$')\n",
    "plt.plot(t_,x_1000,'r',label=r'$q/r = 1000$')\n",
    "plt.ylabel(r'$x(t)$')\n",
    "\n",
    "plt.subplot(2,1,2)\n",
    "plt.plot(t_,u_1,'b',label=r'$q/r = 1$')\n",
    "plt.plot(t_,u_1000,'r',label=r'$q/r = 1000$')\n",
    "plt.ylabel(r'$u(t)$')\n",
    "plt.xlabel(r'$t$')\n",
    "plt.legend()\n",
    "\n",
    "plt.tight_layout()"
   ]
  },
  {
   "cell_type": "markdown",
   "metadata": {
    "id": "7FsuTCQXckIr"
   },
   "source": [
    "## (e) solution"
   ]
  },
  {
   "cell_type": "code",
   "execution_count": 15,
   "metadata": {
    "colab": {
     "base_uri": "https://localhost:8080/",
     "height": 297
    },
    "executionInfo": {
     "elapsed": 4309,
     "status": "ok",
     "timestamp": 1622665167461,
     "user": {
      "displayName": "Sam Burden",
      "photoUrl": "https://lh3.googleusercontent.com/a-/AOh14GjApr-2gPPda0DddsKtZiaMzZ8YWbPkAT9JP0pG=s64",
      "userId": "06088542255363958083"
     },
     "user_tz": 420
    },
    "id": "aKH0RUeNbiGD",
    "outputId": "b5d875e1-1d71-4dad-e7d2-17c089ccd476"
   },
   "outputs": [
    {
     "data": {
      "image/png": "[encoded data removed]",
      "text/plain": [
       "<Figure size 432x288 with 2 Axes>"
      ]
     },
     "metadata": {
      "needs_background": "light"
     },
     "output_type": "display_data"
    }
   ],
   "source": [
    "t = 4\n",
    "xe = np.array([np.pi,0])\n",
    "x0 = xe + [1,0]\n",
    "  \n",
    "def NL(t,x,_K_,m=1,l=1,g=10,b=1):\n",
    "  u = -np.dot(x - xe, _K_.T)\n",
    "  q, v = x[0], x[1] \n",
    "  return np.hstack([v, (1/(m * l)) * (u - (b * v) - (m * g * np.sin(q)))])\n",
    "\n",
    "q_r = 1\n",
    "t_,x_1 = numerical_simulation(lambda t,x : NL(t,x,_K(q_r)),t,x0)\n",
    "u_1 = -np.dot(x_1 - xe,_K(q_r).T)\n",
    "\n",
    "q_r = 1000\n",
    "t_,x_1000 = numerical_simulation(lambda t,x : NL(t,x,_K(q_r)),t,x0)\n",
    "u_1000 = -np.dot(x_1000 - xe,_K(q_r).T)\n",
    "\n",
    "plt.figure()\n",
    "plt.subplot(2,1,1)\n",
    "plt.plot(t_,x_1,'b',label=r'$q/r = 1$')\n",
    "plt.plot(t_,x_1000,'r',label=r'$q/r = 1000$')\n",
    "plt.ylabel(r'$x(t)$')\n",
    "\n",
    "plt.subplot(2,1,2)\n",
    "plt.plot(t_,u_1,'b',label=r'$q/r = 1$')\n",
    "plt.plot(t_,u_1000,'r',label=r'$q/r = 1000$')\n",
    "plt.ylabel(r'$u(t)$')\n",
    "plt.xlabel(r'$t$')\n",
    "plt.legend()\n",
    "\n",
    "plt.tight_layout()"
   ]
  },
  {
   "cell_type": "code",
   "execution_count": null,
   "metadata": {},
   "outputs": [],
   "source": []
  }
 ],
 "metadata": {
  "colab": {
   "collapsed_sections": [],
   "name": "548_hw4_sol.ipynb",
   "provenance": [
    {
     "file_id": "1-Wc5ufxwwpK7Y9NKFEecUwi03dMMPU10",
     "timestamp": 1585507475286
    }
   ]
  },
  "kernelspec": {
   "display_name": "Python 3",
   "language": "python",
   "name": "python3"
  },
  "language_info": {
   "codemirror_mode": {
    "name": "ipython",
    "version": 3
   },
   "file_extension": ".py",
   "mimetype": "text/x-python",
   "name": "python",
   "nbconvert_exporter": "python",
   "pygments_lexer": "ipython3",
   "version": "3.8.10"
  }
 },
 "nbformat": 4,
 "nbformat_minor": 1
}
