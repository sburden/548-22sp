{
 "cells": [
  {
   "cell_type": "markdown",
   "metadata": {
    "id": "4qz2av61Xgua"
   },
   "source": [
    "# 548 21sp exam2"
   ]
  },
  {
   "cell_type": "code",
   "execution_count": 1,
   "metadata": {
    "colab": {
     "base_uri": "https://localhost:8080/",
     "height": 423
    },
    "executionInfo": {
     "elapsed": 731,
     "status": "ok",
     "timestamp": 1623787679874,
     "user": {
      "displayName": "Sam Burden",
      "photoUrl": "https://lh3.googleusercontent.com/a-/AOh14GjApr-2gPPda0DddsKtZiaMzZ8YWbPkAT9JP0pG=s64",
      "userId": "06088542255363958083"
     },
     "user_tz": 420
    },
    "id": "10iQCfcWSXGI",
    "outputId": "992a35fa-5e64-4cdd-af8e-9472f1a5b752"
   },
   "outputs": [
    {
     "name": "stdout",
     "output_type": "stream",
     "text": [
      "13.0 <= scores <= 22.0\n",
      "median score = 19.5\n"
     ]
    },
    {
     "data": {
      "image/png": "[encoded data removed]",
      "text/plain": [
       "<Figure size 576x432 with 2 Axes>"
      ]
     },
     "metadata": {
      "needs_background": "light",
      "tags": []
     },
     "output_type": "display_data"
    }
   ],
   "source": [
    "import numpy as np\n",
    "import pylab as plt\n",
    "\n",
    "scores = np.array([13, 13.5, 16.5, 17, 17.5, 17.5, 17.75, 18, 18.25, 18.75, 19, \n",
    "                   19.5, 19.5, 19.5, 19.5, 20.25, 20.5, 20.5, 21, 21, 21.5, \n",
    "                   21.75, 21.75, 21.75, 22, 22])\n",
    "\n",
    "print('%0.1f <= scores <= %0.1f'%(scores.min(),scores.max()))\n",
    "print('median score = %0.1f'%np.median(scores))\n",
    "\n",
    "xlim = (0,22)\n",
    "dxlim = xlim[1] - xlim[0]\n",
    "\n",
    "plt.figure(figsize=(8,6))\n",
    "plt.subplot(2,1,1)\n",
    "h = plt.hist(scores,bins=np.linspace(xlim[0],xlim[1],2*dxlim))\n",
    "n,s = h[0],h[1]\n",
    "N = int(np.ceil(h[0].max()))\n",
    "plt.ylim(0,N+1)\n",
    "plt.xticks(np.linspace(xlim[0],xlim[1],dxlim+1))\n",
    "plt.yticks(np.linspace(0,N,(N+2)//2))\n",
    "plt.xlim(xlim)\n",
    "plt.ylabel('exams (#)');\n",
    "\n",
    "plt.subplot(2,1,2)\n",
    "n *= 100./n.sum()\n",
    "n = np.hstack((0.,n))\n",
    "plt.fill_between(s,np.cumsum(n),0*n)\n",
    "plt.xlim(xlim)\n",
    "plt.xticks(np.linspace(xlim[0],xlim[1],dxlim+1))\n",
    "plt.yticks(np.linspace(0,100,6))\n",
    "plt.xlabel('score'); plt.ylabel('exams (%)');"
   ]
  },
  {
   "cell_type": "markdown",
   "metadata": {
    "id": "EnHvLbVRxrKK"
   },
   "source": [
    "# setup"
   ]
  },
  {
   "cell_type": "code",
   "execution_count": 1,
   "metadata": {
    "colab": {
     "base_uri": "https://localhost:8080/"
    },
    "executionInfo": {
     "elapsed": 787,
     "status": "ok",
     "timestamp": 1623774813600,
     "user": {
      "displayName": "Sam Burden",
      "photoUrl": "https://lh3.googleusercontent.com/a-/AOh14GjApr-2gPPda0DddsKtZiaMzZ8YWbPkAT9JP0pG=s64",
      "userId": "06088542255363958083"
     },
     "user_tz": 420
    },
    "id": "2zGBBNd0xsbR",
    "outputId": "5dacd528-1fbe-42e2-d90a-e673ccb565ac"
   },
   "outputs": [
    {
     "name": "stdout",
     "output_type": "stream",
     "text": [
      "Automatic pdb calling has been turned OFF\n"
     ]
    }
   ],
   "source": [
    "# \"magic\" commands, prefaced with \"%\", changes settings in the notebook\n",
    "\n",
    "# this ensures plots are embedded in notebook web page\n",
    "%matplotlib inline\n",
    "\n",
    "# pdb = Python debugger, so this command turns the debugger OFF\n",
    "%pdb off"
   ]
  },
  {
   "cell_type": "code",
   "execution_count": 2,
   "metadata": {
    "executionInfo": {
     "elapsed": 439,
     "status": "ok",
     "timestamp": 1623774814329,
     "user": {
      "displayName": "Sam Burden",
      "photoUrl": "https://lh3.googleusercontent.com/a-/AOh14GjApr-2gPPda0DddsKtZiaMzZ8YWbPkAT9JP0pG=s64",
      "userId": "06088542255363958083"
     },
     "user_tz": 420
    },
    "id": "1AHnofsIxvIo"
   },
   "outputs": [],
   "source": [
    "# numpy = numerical Python, implements arrays (/ matrices)\n",
    "import numpy as np\n",
    "# limit number of decimal places printed for floating-point numbers\n",
    "np.set_printoptions(precision=3)\n",
    "\n",
    "# scipy = scientific Python, implements operations on arrays / matrices\n",
    "import scipy as sp\n",
    "# linalg = linear algebra, implements eigenvalues, matrix inverse, etc\n",
    "from scipy import linalg as la\n",
    "# optimize = optimization, root finding, etc\n",
    "from scipy import optimize as op\n",
    "\n",
    "# produce matlab-style plots\n",
    "import matplotlib as mpl\n",
    "# increase font size on plots\n",
    "mpl.rc('font',**{'size':18})\n",
    "# use LaTeX to render symbols\n",
    "mpl.rc('text',usetex=False)\n",
    "# animation\n",
    "from matplotlib import animation as animation\n",
    "from IPython.display import HTML\n",
    "mpl.rc('animation', html='jshtml')\n",
    "# Matlab-style plotting\n",
    "import matplotlib.pyplot as plt\n",
    "\n",
    "# symbolic computation, i.e. computer algebra (like Mathematica, Wolfram Alpha)\n",
    "import sympy as sym\n"
   ]
  },
  {
   "cell_type": "code",
   "execution_count": 3,
   "metadata": {
    "executionInfo": {
     "elapsed": 10,
     "status": "ok",
     "timestamp": 1623774814330,
     "user": {
      "displayName": "Sam Burden",
      "photoUrl": "https://lh3.googleusercontent.com/a-/AOh14GjApr-2gPPda0DddsKtZiaMzZ8YWbPkAT9JP0pG=s64",
      "userId": "06088542255363958083"
     },
     "user_tz": 420
    },
    "id": "If3J6txIxw8n"
   },
   "outputs": [],
   "source": [
    "# os = operating system; access OS-level commands\n",
    "# e.g. create directory, delete file, execute command\n",
    "# (more platform-independent than \"!\")\n",
    "import os"
   ]
  },
  {
   "cell_type": "code",
   "execution_count": 4,
   "metadata": {
    "colab": {
     "base_uri": "https://localhost:8080/"
    },
    "executionInfo": {
     "elapsed": 10,
     "status": "ok",
     "timestamp": 1623774814331,
     "user": {
      "displayName": "Sam Burden",
      "photoUrl": "https://lh3.googleusercontent.com/a-/AOh14GjApr-2gPPda0DddsKtZiaMzZ8YWbPkAT9JP0pG=s64",
      "userId": "06088542255363958083"
     },
     "user_tz": 420
    },
    "id": "ORCsjhxrxyVX",
    "outputId": "8f7f5a20-b909-43c5-a5d3-748af2032c6d"
   },
   "outputs": [
    {
     "name": "stdout",
     "output_type": "stream",
     "text": [
      "Jupyter Notebook\n"
     ]
    }
   ],
   "source": [
    "# test whether this is a Colaboratory or Jupyter notebook\n",
    "try:\n",
    "  import google.colab\n",
    "  COLAB = True\n",
    "  print('Colaboratory Notebook')\n",
    "except:\n",
    "  COLAB = False\n",
    "  print('Jupyter Notebook')"
   ]
  },
  {
   "cell_type": "code",
   "execution_count": 8,
   "metadata": {},
   "outputs": [
    {
     "name": "stdout",
     "output_type": "stream",
     "text": [
      "Defaulting to user installation because normal site-packages is not writeable\n",
      "Requirement already satisfied: slycot in /usr/local/lib/python3.8/dist-packages (0.4.0)\n",
      "Requirement already satisfied: numpy in /home/sburden/.local/lib/python3.8/site-packages (from slycot) (1.22.3)\n",
      "\u001b[33mWARNING: You are using pip version 22.0.4; however, version 22.1.2 is available.\n",
      "You should consider upgrading via the '/usr/bin/python3 -m pip install --upgrade pip' command.\u001b[0m\u001b[33m\n",
      "\u001b[0m"
     ]
    }
   ],
   "source": [
    "!pip install slycot"
   ]
  },
  {
   "cell_type": "code",
   "execution_count": 9,
   "metadata": {},
   "outputs": [
    {
     "name": "stdout",
     "output_type": "stream",
     "text": [
      "Defaulting to user installation because normal site-packages is not writeable\n",
      "Requirement already satisfied: control in /usr/local/lib/python3.8/dist-packages (0.9.0)\n",
      "Requirement already satisfied: scipy in /usr/lib/python3/dist-packages (from control) (1.3.3)\n",
      "Requirement already satisfied: numpy in /home/sburden/.local/lib/python3.8/site-packages (from control) (1.22.3)\n",
      "Requirement already satisfied: matplotlib in /usr/lib/python3/dist-packages (from control) (3.1.2)\n",
      "\u001b[33mWARNING: You are using pip version 22.0.4; however, version 22.1.2 is available.\n",
      "You should consider upgrading via the '/usr/bin/python3 -m pip install --upgrade pip' command.\u001b[0m\u001b[33m\n",
      "\u001b[0m"
     ]
    }
   ],
   "source": [
    "!pip install control"
   ]
  },
  {
   "cell_type": "code",
   "execution_count": 10,
   "metadata": {
    "colab": {
     "base_uri": "https://localhost:8080/"
    },
    "executionInfo": {
     "elapsed": 108074,
     "status": "ok",
     "timestamp": 1623774922397,
     "user": {
      "displayName": "Sam Burden",
      "photoUrl": "https://lh3.googleusercontent.com/a-/AOh14GjApr-2gPPda0DddsKtZiaMzZ8YWbPkAT9JP0pG=s64",
      "userId": "06088542255363958083"
     },
     "user_tz": 420
    },
    "id": "0ivbu_PBx0PQ",
    "outputId": "dfc5920f-a573-4745-9bf4-d084e7d36052"
   },
   "outputs": [],
   "source": [
    "# Colab notebook\n",
    "if COLAB:\n",
    "  # pip = Python package manager; \"!\" means \"run at system level\"\n",
    "  !pip install slycot\n",
    "  !pip install control\n",
    "  \n",
    "  # render SymPy equations nicely in Colaboratory Notebook\n",
    "  def colab_latex_printer(exp,**options):\n",
    "    from google.colab.output._publish import javascript\n",
    "    url = \"https://cdnjs.cloudflare.com/ajax/libs/mathjax/2.7.3/latest.js?config=default\"\n",
    "    javascript(url=url)\n",
    "    return sym.printing.latex(exp,**options)\n",
    "  \n",
    "  sym.init_printing(use_latex=\"mathjax\",latex_printer=colab_latex_printer)\n",
    "\n",
    "# Jupyter notebook\n",
    "else:\n",
    "  pass\n",
    "  #init_printing(use_latex='mathjax')\n",
    "\n",
    "# Python's Control Systems Toolbox\n",
    "import control as ctrl\n",
    "\n",
    "# SciPy module that implements many of the routines in ctrl\n",
    "from scipy import signal as sig"
   ]
  },
  {
   "cell_type": "markdown",
   "metadata": {
    "id": "6Y6qOq7GD_WW"
   },
   "source": [
    "# 1. Kalman filtering and smoothing\n",
    "\n",
    "Consider the noisy process model\n",
    "\n",
    "$$ x_{s+1} = A_s x_s + B_s u_s + w_s,\\ y_s = C_s x_s + v_s, \\ x_s \\in \\mathbb{R}^n,\\ u_s \\in \\mathbb{R}^k, \\ y_s \\in \\mathbb{R}^m, $$\n",
    "\n",
    "where the initial state is a Gaussian random vector distributed as $\\mathcal{N}(x_0,P_0)$ and $w,v$ are independent Gaussian random processes with $w_s\\sim\\mathcal{N}(0,Q_s)$, $v_s\\sim\\mathcal{N}(0,R_s)$.\n",
    "\n",
    "According to [this paper](https://paperpile.com/shared/mbWxcy), the least-squares problem on time horizon $t$\n",
    "\n",
    "$$ (\\text{LS1})\\quad \\min_{\\widehat{x}} \\| \\widehat{x}_0 - x_0 \\|_{P_0^{-1}}^2 + \\sum_{s=0}^{t-1} \\| \\widehat{x}_{s+1} - (A_s \\widehat{x}_s + B_s u_s) \\|_{Q_s^{-1}}^2 + \\sum_{s=1}^t \\| y_s - C_s \\widehat{x}_s \\|_{R_s^{-1}}^2 $$\n",
    "\n",
    "can equivalently be written in the form\n",
    "\n",
    "$$ (\\text{LS2})\\quad \\min_{\\widehat{x}} \\| \\xi - A \\widehat{x} \\|_{Q^{-1}}^2 + \\| y - C \\widehat{x} \\|_{R^{-1}}^2 $$\n",
    "\n",
    "where $\\| z \\|_{S^{-1}}^2 = \\frac{1}{2} z^\\top S^{-1} z$ for any positive-semidefinite matrix $S = S^\\top > 0$ and:\n",
    "* $Q = \\operatorname{diag}(P_0,Q_0,Q_1,\\dots,Q_{t-1})$,\n",
    "* $R = \\operatorname{diag}(R_1,R_2,\\dots,R_t)$,\n",
    "* $\\widehat{x} = \\operatorname{vec}(x_0,x_1,\\dots,x_t)$,\n",
    "* $\\widehat{y} = \\operatorname{vec}(y_1,y_2,\\dots,y_t)$,\n",
    "* $\\widehat{\\xi} = \\operatorname{vec}(x_0,B_0 u_0,B_1 u_1,\\dots,B_{t-1} u_{t-1})$,\n",
    "\n",
    "$$ A = \\left[ \\begin{array}{cccc} I & 0 & & \\\\ -A_0 & I & \\ddots & \\\\ & \\ddots & \\ddots & 0 \\\\ & & -A_{t-1} & I \\end{array} \\right],\\ C = \\left[ \\begin{array}{cccc} 0 & C_1 & 0 & \\cdots & 0 \\\\ 0 & 0 & C_2 & \\ddots & \\vdots \\\\ \\vdots & \\vdots & \\ddots & \\ddots & 0 \\\\ 0 & 0 & \\cdots & 0 & C_t \\end{array} \\right]. $$\n",
    "\n",
    "\n"
   ]
  },
  {
   "cell_type": "markdown",
   "metadata": {
    "id": "Ijn8s69nu6Hs"
   },
   "source": [
    "(a) Analytically solve $\\text{(LS2)}$ on time horizon $t = 1$ to obtain an expression for $\\widehat{x}_1$ in terms of $\\widehat{x}_0$ -- you should obtain an expression that appears different from the expression obtained by applying the Kalman filter from the lecture notes with the same problem data, but is in fact equivalent."
   ]
  },
  {
   "cell_type": "markdown",
   "metadata": {
    "id": "GFRhvMovu9Eq"
   },
   "source": [
    "## (a) solution"
   ]
  },
  {
   "cell_type": "markdown",
   "metadata": {
    "id": "cs0Crts0FiYh"
   },
   "source": [
    "We will make use of the solution $\\widehat{x} = (H^\\top S^{-1} H)^{-1} H^\\top S^{-1} z$ of the weighted least-squares problem $\\min_{\\widehat{x}} (z - H \\widehat{x})^\\top S^{-1} (z - H \\widehat{x})$ from lecture, since with\n",
    "\n",
    "$$ S = \\operatorname{diag}(P_0, Q_0, R_1),\\ z = \\left[ \\begin{array}{c} x_0 \\\\ B_0 u_0 \\\\ y_1 \\end{array}\\right],\\ H = \\left[ \\begin{array}{cc} I & 0 \\\\ -A_0 & I \\\\ 0 & C_1 \\end{array}\\right] $$\n",
    "\n",
    "the cost function for $\\text{(LS2)}$ can be written as\n",
    "\n",
    "$$ \\| \\xi - A \\widehat{x} \\|_{Q^{-1}}^2 + \\| y - C \\widehat{x} \\|_{R^{-1}}^2 = \\frac{1}{2} (z - H \\widehat{x})^\\top S^{-1} (z - H \\widehat{x}). $$\n",
    "\n",
    "Noting that $\\widehat{x} = (H^\\top S^{-1} H)^{-1} H^\\top S^{-1} z$ is the answer to the question \"how can $H^\\top S^{-1} z$ be written as a linear combination of the columns of $H^\\top S^{-1} H$?\", we compute\n",
    "\n",
    "$$ H^\\top S^{-1} z =  \\left[ \\begin{array}{c} P_0^{-1} x_0 - A_0^\\top Q_0^{-1} B_0 u_0 \\\\ Q_0^{-1} B_0 u_0 + C_1^\\top R_1^{-1} y_1 \\end{array}\\right],\\ \n",
    "H^\\top S^{-1} H = \\left[ \\begin{array}{c} P_0^{-1} + A_0^\\top Q_0^{-1} A_0 & -A_0^\\top Q_0^{-1} \\\\ -Q_0^{-1} A_0 & Q_0^{-1} + C_1^\\top R_1^{-1} C_1 \\end{array}\\right],$$ \n",
    "\n",
    "and deduce that $\\widehat{x}_0$ and $\\widehat{x}_1$ are related by the equation \n",
    "\n",
    "$$ Q_0^{-1} B_0 u_0 + C_1^\\top R_1^{-1} y_1 = -Q_0^{-1} A_0 \\widehat{x}_0 + (Q_0^{-1} + C_1^\\top R_1^{-1} C_1) \\widehat{x}_1, $$\n",
    "\n",
    "which equation we solve for $\\widehat{x}_1$ in terms of $\\widehat{x}_0$ to obtain\n",
    "\n",
    "$$ \\widehat{x}_1 = (Q_0^{-1} + C_1^\\top R_1^{-1} C_1)^{-1} \\left( Q_0^{-1} (A_0 \\widehat{x}_0 + B_0 u_0) + C_1^\\top R_1^{-1} y_1 \\right). $$\n",
    "\n",
    "It is not immediately obviuos, but this expression is equivalent to the formula obtained from the Kalman filter, as we will find in subsequent problems."
   ]
  },
  {
   "cell_type": "markdown",
   "metadata": {
    "id": "9tEylMHku7GX"
   },
   "source": [
    "(b) Implement an algorithm that solves $\\text{(LS2)}$ on time horizon $t$ and test the algorithm by comparing the state estimate $\\widehat{x}_t$ it produces at the final timestep $t = 8$ (time = $0.8$ sec) with the state estimate obtained by applying the recursive Kalman filter algorithm from the homework 7 solution to the dataset from problem 1(g) with invertible weighting matrix $Q_s = \\operatorname{diag}(0.3,0.2)$."
   ]
  },
  {
   "cell_type": "markdown",
   "metadata": {
    "id": "i55YpRX4u9cn"
   },
   "source": [
    "## (b) solution"
   ]
  },
  {
   "cell_type": "code",
   "execution_count": 7,
   "metadata": {
    "executionInfo": {
     "elapsed": 14,
     "status": "ok",
     "timestamp": 1623774922401,
     "user": {
      "displayName": "Sam Burden",
      "photoUrl": "https://lh3.googleusercontent.com/a-/AOh14GjApr-2gPPda0DddsKtZiaMzZ8YWbPkAT9JP0pG=s64",
      "userId": "06088542255363958083"
     },
     "user_tz": 420
    },
    "id": "2CH8Bs1XyxBU"
   },
   "outputs": [],
   "source": [
    "def kalman_filter(x0,P0,A,B,u,C,Q,R,t_,z_):\n",
    "  \"\"\"\n",
    "  input:\n",
    "    x0 - d x 1 array; initial state mean\n",
    "    P0 - d x d array; initial state covariance\n",
    "    A - func : t -> d x d array; state transition\n",
    "    B - func : t -> d x m array; control input matrix\n",
    "    u - func : t -> m x 1 array; control input\n",
    "    C - func : t -> n x d array; observation matrix\n",
    "    Q - func : t -> m x m array; input disturbance covariance\n",
    "    R - func : t -> n x n array; output disturbance covariance\n",
    "    t_ - N array; times\n",
    "    z_ - n x N array; noisy observations\n",
    "\n",
    "  output:\n",
    "    x_ - d x N array; state estimate\n",
    "  \"\"\"\n",
    "  x_ = [x0]; P_ = [P0]\n",
    "  for t,zt in zip(t_,z_):\n",
    "    # State Propagation and prediction\n",
    "    ti = int(t)-1\n",
    "    xt_ = np.dot(A(ti),x_[-1]) + np.dot(B(ti),u(ti))\n",
    "    Pt_ = np.dot(A(ti), np.dot(P_[-1], A(ti).T)) + Q(ti)\n",
    "\n",
    "    # Update\n",
    "    K = np.dot(np.dot(Pt_, C(ti).T), la.inv(R(ti) + np.dot(np.dot(C(ti), Pt_), C(ti).T)))\n",
    "    xt = xt_ + np.dot(K,(zt - np.dot(C(ti), xt_)))\n",
    "    KC = np.eye(A(ti).shape[0]) - np.dot(K,C(ti))\n",
    "    Pt = np.dot(np.dot(KC, Pt_), KC.T) + np.dot(np.dot(K,R(ti)),K.T)\n",
    "\n",
    "    #print(Q(ti),R(ti),u(ti),zt,A(ti),C(ti))\n",
    "\n",
    "    x_.append(xt)\n",
    "    P_.append(Pt)\n",
    "  return np.hstack(x_)"
   ]
  },
  {
   "cell_type": "code",
   "execution_count": 8,
   "metadata": {
    "executionInfo": {
     "elapsed": 201,
     "status": "ok",
     "timestamp": 1623774922590,
     "user": {
      "displayName": "Sam Burden",
      "photoUrl": "https://lh3.googleusercontent.com/a-/AOh14GjApr-2gPPda0DddsKtZiaMzZ8YWbPkAT9JP0pG=s64",
      "userId": "06088542255363958083"
     },
     "user_tz": 420
    },
    "id": "rrX1XXWUzdB1"
   },
   "outputs": [],
   "source": [
    "def kalman_smoother(x0,P0,A,B,ut,C,Q,R,t_,z_):\n",
    "  \"\"\"\n",
    "  input:\n",
    "    x0 - d x 1 array; initial state mean\n",
    "    P0 - d x d array; initial state covariance\n",
    "    A - func : t -> d x d array; state transition\n",
    "    B - func : t -> d x m array; control input matrix\n",
    "    u - func : t -> m x 1 array; control input\n",
    "    C - func : t -> n x d array; observation matrix\n",
    "    Q - func : t -> m x m array; input disturbance covariance\n",
    "    R - func : t -> n x n array; output disturbance covariance\n",
    "    t_ - N array; times\n",
    "    z_ - n x N array; noisy observations\n",
    "\n",
    "  output:\n",
    "    x_ - d x N array; state estimate\n",
    "  \"\"\"\n",
    "  Qi_ = [la.inv(P0)]; Ri_ = []; y = []; xi = [x0]\n",
    "  d = x0.size\n",
    "  Odxd = np.zeros((d,d))\n",
    "  Idxd = np.eye(d)\n",
    "  A_ = [ np.hstack([Idxd] + [Odxd for t in t_]) ]\n",
    "  C_ = [ ]\n",
    "  for t,zt in zip(t_,z_):\n",
    "    ti = int(t)-1\n",
    "    Qi_.append(la.inv(Q(ti)))\n",
    "    Ri_.append(la.inv(R(ti+1)))\n",
    "    y.append(zt)\n",
    "    xi.append(B(ti) @ u(ti))\n",
    "    A_.append(np.hstack(([Odxd for s in np.arange(0,ti+1)] + [-A(ti)] + [Idxd] \n",
    "                         + [Odxd for s in np.arange(ti+2,t_.size)])))\n",
    "    n = C(ti).shape[0]\n",
    "    Onxd = np.zeros((n,d))\n",
    "    C_.append(np.hstack(([Onxd for s in np.arange(0,ti+2)] + [C(ti)] \n",
    "                         + [Onxd for s in np.arange(ti+2,t_.size)])))\n",
    "    #print(Q(ti),R(ti),u(ti),zt,A(ti),C(ti))\n",
    "  Qi_ = la.block_diag(*Qi_)\n",
    "  Ri_ = la.block_diag(*Ri_)\n",
    "  y = np.vstack(y)\n",
    "  xi = np.vstack(xi)\n",
    "  A_ = np.vstack(A_)\n",
    "  C_ = np.vstack(C_)\n",
    "  #return Qi_,Ri_,y,xi,A_,C_\n",
    "\n",
    "  M = np.vstack(( A_.T @ Qi_ @ A_ + C_.T @ Ri_ @ C_ ))\n",
    "  b = np.vstack(( A_.T @ Qi_ @ xi + C_.T @ Ri_ @ y ))\n",
    "\n",
    "  return la.lstsq(M,b)[0].reshape(x0.size,t_.size+1,order='F')"
   ]
  },
  {
   "cell_type": "code",
   "execution_count": 9,
   "metadata": {
    "executionInfo": {
     "elapsed": 309,
     "status": "ok",
     "timestamp": 1623774922895,
     "user": {
      "displayName": "Sam Burden",
      "photoUrl": "https://lh3.googleusercontent.com/a-/AOh14GjApr-2gPPda0DddsKtZiaMzZ8YWbPkAT9JP0pG=s64",
      "userId": "06088542255363958083"
     },
     "user_tz": 420
    },
    "id": "bNynX5SQy64X"
   },
   "outputs": [],
   "source": [
    "url = 'https://raw.githubusercontent.com/sburden/548-20sp/master/548_20sp_hw7tuz.csv'\n",
    "import pandas as pd\n",
    "import numpy as np\n",
    "data = np.asarray(pd.read_csv(url,header=None))\n",
    "\n",
    "g,length,mass = 9.81,.5,1. # m/sec^2, m, kg\n",
    "delta = 0.1\n",
    "A = np.asarray([[0.0,1.0],[-g/length,0.0]])\n",
    "B = np.asarray([[0.0],[1/(mass*length**2)]])\n",
    "C = np.asarray([[1.0, 0.0]])\n",
    "A_d = la.expm(A * delta)\n",
    "B_d = np.dot(np.dot(A_d - np.eye(A.shape[0]), la.inv(A)), B)\n",
    "C_d = C\n",
    "\n",
    "x0 = np.array([[-0.14415834],[ 0.23380803]])\n",
    "P0 = np.array([[ 0.1, 0. ],[ 0., 1. ]])\n",
    "\n",
    "t_, u_, z_ = data[:,0], data[:,1], data[:,2] \n",
    "\n",
    "A = lambda t: A_d\n",
    "B = lambda t: B_d\n",
    "C = lambda t: C_d\n",
    "R = lambda t: np.array([[0.1]])\n",
    "Q = lambda t: np.asarray([[0.3,0.0],[0.0,0.2]])\n",
    "u = lambda t: np.array([[u_[t]]])"
   ]
  },
  {
   "cell_type": "code",
   "execution_count": 10,
   "metadata": {
    "colab": {
     "base_uri": "https://localhost:8080/"
    },
    "executionInfo": {
     "elapsed": 13,
     "status": "ok",
     "timestamp": 1623774922897,
     "user": {
      "displayName": "Sam Burden",
      "photoUrl": "https://lh3.googleusercontent.com/a-/AOh14GjApr-2gPPda0DddsKtZiaMzZ8YWbPkAT9JP0pG=s64",
      "userId": "06088542255363958083"
     },
     "user_tz": 420
    },
    "id": "AXcbN19U53CG",
    "outputId": "1e8c2449-7ece-416c-994c-d60cc82a41e1"
   },
   "outputs": [
    {
     "name": "stdout",
     "output_type": "stream",
     "text": [
      "[[-0.144 -0.139 -0.094 -0.028  0.054  0.113  0.124  0.103  0.037]\n",
      " [ 0.234  0.417  1.111  1.33   1.044  0.362 -0.477 -1.17  -1.535]]\n",
      "[[-0.15  -0.148 -0.11  -0.041  0.046  0.113  0.136  0.117  0.037]\n",
      " [ 0.21   0.397  1.106  1.359  1.106  0.443 -0.4   -1.129 -1.535]]\n"
     ]
    }
   ],
   "source": [
    "T = 8\n",
    "#Q_,R_,y,xi,A_,C_ = kalman_smoother(x0,P0,A,B,u,C,Q,R,t_[:T],z_[:T])\n",
    "x_filter = kalman_filter(x0,P0,A,B,u,C,Q,R,t_[:T],z_[:T])\n",
    "x_smoother = kalman_smoother(x0,P0,A,B,u,C,Q,R,t_[:T],z_[:T])\n",
    "\n",
    "print(x_filter)\n",
    "print(x_smoother)"
   ]
  },
  {
   "cell_type": "code",
   "execution_count": 20,
   "metadata": {
    "colab": {
     "base_uri": "https://localhost:8080/",
     "height": 313
    },
    "executionInfo": {
     "elapsed": 499,
     "status": "ok",
     "timestamp": 1623775077221,
     "user": {
      "displayName": "Sam Burden",
      "photoUrl": "https://lh3.googleusercontent.com/a-/AOh14GjApr-2gPPda0DddsKtZiaMzZ8YWbPkAT9JP0pG=s64",
      "userId": "06088542255363958083"
     },
     "user_tz": 420
    },
    "id": "6olx0d46hYib",
    "outputId": "f7664767-19d2-4075-abf6-c7a992ad87c3"
   },
   "outputs": [
    {
     "data": {
      "text/plain": [
       "Text(0, 0.5, 'state estimate')"
      ]
     },
     "execution_count": 20,
     "metadata": {
      "tags": []
     },
     "output_type": "execute_result"
    },
    {
     "data": {
      "image/png": "[encoded data removed]",
      "text/plain": [
       "<Figure size 432x288 with 1 Axes>"
      ]
     },
     "metadata": {
      "needs_background": "light",
      "tags": []
     },
     "output_type": "display_data"
    }
   ],
   "source": [
    "plt.figure()\n",
    "plt.plot(x_filter.T,'-+')\n",
    "plt.plot(x_smoother.T,'-x')\n",
    "plt.xlabel('timestep')\n",
    "plt.ylabel('state estimate')"
   ]
  },
  {
   "cell_type": "markdown",
   "metadata": {
    "id": "iL1dA4gUu8nf"
   },
   "source": [
    "(c) You should find in (a) and (b) that the state estimate obtained by solving $\\text{(LS2)}$ is different from the state estimate obtained by applying the Kalman filter with the same problem data at all times ***other than the final time*** (i.e. at time $0$ in (a) and times $0, 1, \\dots, t-1$ in (b)) -- explain in plain language why these two solutions are different.\n",
    "\n",
    "***Hint:*** the solution to $\\text{(LS2)}$ is often referred to as the \"Kalman smoother\" -- this information may help when searching technical materials."
   ]
  },
  {
   "cell_type": "markdown",
   "metadata": {
    "id": "rOPv1DlMu9rw"
   },
   "source": [
    "## (c) solution\n",
    "\n",
    "The state estimates $\\widehat{x}_s$ obtained by solving $(\\text{LS2})$ are ***acausal*** in that they are informed by the observations at ***all*** times, including ***future*** times, whereas the Kalman filter estimates are ***causal*** in that they are determined only by observations at previous and present times -- in plain language:  if you knew what the state was going to be in the future, that information could be used to improve your estimate of the state in the present.  There is no distinction at the final time since (by definition) there are no future observations, so the two estimates for $\\widehat{x}_t$ coincide.  "
   ]
  },
  {
   "cell_type": "markdown",
   "metadata": {
    "id": "rMePJaDCNBHK"
   },
   "source": [
    "# 2. optimal reference tracking\n",
    "\n",
    "Consider the process model\n",
    "\n",
    "$$ (\\text{LTV})\\quad x_{s+1} = A_s x_s + B_s u_s,\\ x_s \\in \\mathbb{R}^n,\\ u_s \\in \\mathbb{R}^k. $$\n",
    "\n",
    "We'll call signal $\\bar{x}:[0,\\infty)\\rightarrow\\mathbb{R}^n$ a ***reference trajectory*** for $(\\text{LTV})$ if there exists a corresponding ***reference input*** $\\bar{u}:[0,\\infty)\\rightarrow\\mathbb{R}^k$ such that\n",
    "\n",
    "$$ \\forall s\\in[0,\\infty) : \\bar{x}_{s+1} = A_s \\bar{x}_s + B_s \\bar{u}_s. $$\n",
    "\n",
    "(a) Supposing that $\\bar{x}$ is a reference trajectory with reference input $\\bar{u}$ for $(\\text{LTV})$, design a reference-tracking controller by minimizing the following cost:\n",
    "\n",
    "$$ \\sum_{s=0}^t \\| x(s) - \\bar{x}(s) \\|^2 + \\| u(s) - \\bar{u}(s) \\|^2. $$\n",
    "\n",
    "***Hint:*** you should find that the optimal controller is a linear combination of two terms: a *feedforward* term that varies with time (only) and a *feedback* term that varies with state and time.\n",
    "\n"
   ]
  },
  {
   "cell_type": "markdown",
   "metadata": {
    "id": "xA5Ztrf0nyzA"
   },
   "source": [
    "## (a) solution\n",
    "\n",
    "The optimal control $u^*(t,x) = u_{FF}(t) + u_{FB}(x)$ consists of a *feedforward* term $u_{FF}(t) = \\bar{u}(t)$ and a *feedback* term $u_{FB}(s,x) = - K_s (x - \\bar{x}_s)$, where $K$ is the time-varying gain matrix obtained by solving the Linear-Quadratic Regulation problem with $Q = I$, $R = I$.\n",
    "\n",
    "To see why this is optimal, consider the relative coordinates for state and input $\\delta x_s = x_s - \\bar{x}_s$, $\\delta u_s = u_s - \\bar{u}_s$.  In these coordinates, the dynamics are\n",
    "\n",
    "$$ \\delta x_{s+1} = x_{s+1} - \\bar{x}_{s+1} = A x_s + B u_s - (A_s \\bar{x}_s + B_s \\bar{u}_s) $$\n",
    "\n",
    "$$ = A_s (x_s - \\bar{x}_s) + B_s (u_s - \\bar{u}_s) = A_s \\delta x_s + B_s \\delta u_s,$$\n",
    "\n",
    "and the cost is $\\sum_{s=0}^t \\delta x_s^\\top \\delta x_s + \\delta u_s^\\top \\delta u_s$.  If $\\delta x_0 = 0$, i.e. $x_0 = \\bar{x}_0$, then the optimal input to apply is $\\bar{u}$.  If $\\delta x_0 \\neq 0$ then the optimal input to apply is a linear combination of *feedforward* input $\\bar{u}$ and *feedback* input $- K_s \\delta x_s$ where $K$ is the time-varying gain matrix obtained by solving the Linear-Quadratic Regulation problem with $Q = I$, $R = I$."
   ]
  },
  {
   "cell_type": "markdown",
   "metadata": {
    "id": "T7yXQbgvnyC4"
   },
   "source": [
    "(b) Implement an algorithm that (i) determines whether a given signal $\\bar{x}:[0,\\infty)\\rightarrow\\mathbb{R}^n$ is a reference trajectory for $(\\text{LTV})$ on time horizon $t$ and (ii) if so, computes a corresponding $\\bar{u}$.  Explain in plain language how your algorithm works, and provide your implementation using the following function signature:"
   ]
  },
  {
   "cell_type": "code",
   "execution_count": null,
   "metadata": {
    "id": "mH5FnyYYQHwN"
   },
   "outputs": [],
   "source": [
    "def reference_tracking(A_,B_,x_,t):  \"\"\"\n",
    "  input:\n",
    "    A_ - length-t list of n x n arrays; state matrix\n",
    "    B_ - length-t list of n x k arrays; control matrix\n",
    "    x_ - length-t list of length-n arrays; reference\n",
    "    t - integer > 0; time horizon\n",
    "\n",
    "  output:\n",
    "    is_reference - Boolean; \n",
    "    u_ - depends on truth value of is_reference:\n",
    "      if True then length-(t-1) list of length-k arrays\n",
    "      if False then None\n",
    "  \"\"\"\n",
    "  # determine whether x_ is a reference for A_, B_ on time horizon t\n",
    "  if is_reference:\n",
    "    # compute u_\n",
    "    return True,u_\n",
    "  else:\n",
    "    return False,None"
   ]
  },
  {
   "cell_type": "markdown",
   "metadata": {
    "id": "zP8UmpVqu3wW"
   },
   "source": [
    "## (b) solution\n",
    "\n",
    "The condition for $\\bar{x}$ to be a reference trajectory is \n",
    "\n",
    "$$ \\forall s\\in[0,\\infty) : \\bar{x}_{s+1} = A_s \\bar{x}_s + B_s \\bar{u}_s, $$\n",
    "\n",
    "which can equivalenly be written as\n",
    "\n",
    "$$ \\forall s\\in[0,\\infty) : \\bar{x}_{s+1} - A_s \\bar{x}_s \\in \\mathcal{R}(B_s), $$\n",
    "\n",
    "where $\\mathcal{R}(B_s)$ denotes the *range space* (also known as *column space* or *span*) of matrix $B_s$.  Since the rank-nullity Theorem tells us that the range space of a matrix is equal to the orthogonal complement of its *null space* $\\mathcal{N}$,\n",
    "\n",
    "$$ \\mathcal{R}(B_s) = \\mathcal{N}(B_s)^\\perp, $$\n",
    "\n",
    "we can assess whether a given signal is a reference trajectory for a given system simply by checking the condition \n",
    "\n",
    "$$ B_s^\\top (\\bar{x}_{s+1} - A_s \\bar{x}_s) = 0, $$\n",
    "\n",
    "which we implement in code as `np.allclose( B[s].T @ (x[s+1] - A[s] @ x[s]), 0)`."
   ]
  },
  {
   "cell_type": "markdown",
   "metadata": {
    "id": "KHZhLHwfRpn8"
   },
   "source": [
    "(c) Determine whether the following signals are reference trajectories for the given systems (you may use your algorithm from (b) or use pen-and-paper analysis):\n",
    "\n",
    "(c.i) constant signal $\\bar{x}(s) = r$ with $r \\neq 0$ for first-order system $\\dot{y} = u$;\n",
    "\n",
    "(c.ii) constant signal $\\bar{x}(s) = (q,p)$ with $q$ ***and*** $p$ nonzero for second-order system $\\ddot{y} = u$."
   ]
  },
  {
   "cell_type": "markdown",
   "metadata": {
    "id": "Vaeg_wf2u1Yh"
   },
   "source": [
    "## (c) solution\n",
    "\n",
    "The condition from (b) for a signal to be a reference trajectory was that $\\bar{x}_{s+1} - A \\bar{x}_{s}$ lies in the rangespace of $B_s$ -- we will use this condition to solve the following problems.\n",
    "\n",
    "(c.i) With $x = y$ we have $\\dot{x} = a x + b u$ where $a = 0$, $b = 1$; since $b$ is nonzero and $x$ is one-dimensional, every constant reference $\\bar{x} \\equiv r$ is in the range of $b$.\n",
    "\n",
    "(c.ii) with $x = (y,\\dot{y})$ we have $\\dot{x} = (\\dot{y}, \\ddot{y}) = A x + B u$ where \n",
    "\n",
    "$$ A = \\left[ \\begin{array}{cc} 0 & 1 \\\\ 0 & 0 \\end{array} \\right],\\ B = \\left[ \\begin{array}{cc} 0 \\\\ 1 \\end{array} \\right]. $$\n",
    "\n",
    "Since $\\mathcal{R}(B)$ spans $\\dot{y}$ it is possible to have a constant reference $\\bar{x} \\equiv (0,p)$, but it is not possible to have a constant reference $\\bar{x} \\equiv (q,p)$ with $q$ and $p$ nonzero."
   ]
  },
  {
   "cell_type": "markdown",
   "metadata": {
    "id": "0vsU4yaRS-nG"
   },
   "source": [
    "# 3. fragile vs robust control\n",
    "\n",
    "Consider the following example from [Doyle's 1978 paper](https://paperpile.com/shared/BRx9bl):\n",
    "\n",
    "$$\n",
    "\\dot{x}\n",
    "=\n",
    "\\left[ \\begin{array}{c} 1 & 1 \\\\ 0 & 1 \\end{array} \\right]\n",
    "x\n",
    "+\n",
    "\\left[ \\begin{array}{c} 0 \\\\ 1 \\end{array} \\right]\n",
    "u\n",
    "+\n",
    "\\left[ \\begin{array}{c} 1 \\\\ 1 \\end{array} \\right]\n",
    "w,\n",
    "$$\n",
    "\n",
    "$$\n",
    "y = \n",
    "\\left[ \\begin{array}{c} 1 & 0 \\end{array} \\right] x + v,\n",
    "$$\n",
    "\n",
    "where:\n",
    "$x\\in\\mathbb{R}^2$ is the state, \n",
    "$u\\in\\mathbb{R}$ is the control input, \n",
    "$w\\in\\mathbb{R}$ is the input disturbance, \n",
    "and\n",
    "$v\\in\\mathbb{R}$ is the output disturbance.\n",
    "\n",
    "Assume $w$ and $v$ are independent Gaussian random processes with variances $\\operatorname{Var}[w] = \\sigma^2 > 0$ and $\\operatorname{Var}[v] = 1$, and suppose the error vector to be minimized is $z = (\\sqrt{q}\\, (x_1 + x_2), u)$ where $q > 0$ is a weighting parameter.\n",
    "\n"
   ]
  },
  {
   "cell_type": "markdown",
   "metadata": {
    "id": "uwIlfqLJoLXL"
   },
   "source": [
    "(a) *Regarding this LTI system as a process $P$ with inputs $\\bar{w} = (\\frac{1}{\\sigma} w,v),u$, outputs $z,y$, state $x$, determine the system matrices for the following state-space representation of $P$:*\n",
    "\n",
    "$$\n",
    "\\dot{x} = A x + B_1 \\bar{w} + B_2 u,\\\\\n",
    "z = C_1 x + D_{11} \\bar{w} + D_{12} u,\\\\\n",
    "y = C_2 x + D_{21} \\bar{w} + D_{22} u.\n",
    "$$\n",
    "\n",
    "***Solve the following problems using multiple choices of the parameter $q = \\sigma^2$.***\n",
    "\n"
   ]
  },
  {
   "cell_type": "markdown",
   "metadata": {
    "id": "ErpcBx08usdc"
   },
   "source": [
    "## (a) solution\n",
    "\n",
    "$$\n",
    "A = \\left[ \\begin{array}{cc} 1 & 1 \\\\ 0 & 1 \\end{array} \\right],\\\n",
    "B_1 = \\left[ \\begin{array}{cc} \\sigma & 0 \\\\ \\sigma & 0 \\end{array} \\right],\\\n",
    "B_2 = \\left[ \\begin{array}{c} 0 \\\\ 1 \\end{array} \\right],\n",
    "$$\n",
    "\n",
    "$$\n",
    "C_1 = \\left[ \\begin{array}{cc} \\sqrt{q} & \\sqrt{q} \\\\ 0 & 0 \\end{array} \\right],\\\n",
    "D_{11} = \\left[ \\begin{array}{cc} 0 & 0 \\\\ 0 & 0 \\end{array} \\right],\\\n",
    "D_{12} = \\left[ \\begin{array}{c} 0 \\\\ 1 \\end{array} \\right],\n",
    "$$\n",
    "\n",
    "$$\n",
    "C_2 = \\left[ \\begin{array}{cc} 1 & 0 \\end{array} \\right],\\\n",
    "D_{21} = \\left[ \\begin{array}{cc} 0 & 1 \\end{array} \\right],\\\n",
    "D_{22} = 0.\n",
    "$$"
   ]
  },
  {
   "cell_type": "markdown",
   "metadata": {
    "id": "qrsa4iRMoMr6"
   },
   "source": [
    "(b) Use `control.h2syn`, i.e. the $H_2$ controller synthesis routine from the Control Systems Toolbox, to determine a dynamic compensator $C_{H_2}$ for $P$ that minimizes the $H_2$ norm of the closed-loop transformation from $w$ to $z$.\n",
    "\n",
    "***Hint:*** use the following arguments to `h2syn`: `P = ctrl.ss(A,B,C,D)`, `nmeas = 1`, `ncont = 1` where\n",
    "\n",
    "$$\n",
    "B = \\left[ \\begin{array}{c} B_1 & B_2 \\end{array} \\right],\\\n",
    "C = \\left[ \\begin{array}{cc} C_1 \\\\ C_2 \\end{array} \\right],\\\n",
    "D = \\left[ \\begin{array}{cc} D_{11} & D_{12} \\\\ D_{21} & D_{22} \\end{array} \\right].\n",
    "$$\n",
    "\n",
    "Provide code that verifies your answer agrees with the continuous-time infinite-horizon LQG = LQ + KF regulator when the LQ weighting matrices are $Q = C_1^\\top C_1$, $R = 1$ and the KF weighting matrices are $W = B_1 B_1^\\top$, $V = 1$, and provide a plot of the gain margin $g_m$ of the closed-loop system as a function of $q = \\sigma^2$.\n",
    "\n",
    "***Hint:*** use the `control.lqr` function."
   ]
  },
  {
   "cell_type": "markdown",
   "metadata": {
    "id": "ODNiZvA_uvPZ"
   },
   "source": [
    "## (b) solution"
   ]
  },
  {
   "cell_type": "code",
   "execution_count": 11,
   "metadata": {
    "id": "gTLB8ofBpL-2"
   },
   "outputs": [],
   "source": [
    "def h2syn(s2): # s2 = sigma^2\n",
    "  q = s2 # q\n",
    "\n",
    "  # dx = A x + B1 w + B2 u\n",
    "  A = np.array([[1,1],[0,1]])\n",
    "  B1 = np.array([[np.sqrt(s2),0],[np.sqrt(s2),0]])\n",
    "  B2 = np.array([[0],[1]])\n",
    "  # z = C1 x + D11 w + D12 u\n",
    "  C1 = np.array([[np.sqrt(q),np.sqrt(q)],[0,0]])\n",
    "  D11 = np.zeros((2,2))\n",
    "  D12 = np.array([[0],[1]])\n",
    "  # y = C2 x + D21 w + D22 u\n",
    "  C2 = np.array([[1,0]])\n",
    "  D21 = np.array([[0,1]])\n",
    "  D22 = np.zeros((1,1))\n",
    "\n",
    "  # check shapes\n",
    "  P_zw = ctrl.ss(A,B1,C1,D11)\n",
    "  P_zu = ctrl.ss(A,B2,C1,D12)\n",
    "  P_yw = ctrl.ss(A,B1,C2,D21)\n",
    "  P_yu = ctrl.ss(A,B2,C2,D22)\n",
    "\n",
    "  # assemble overall P\n",
    "  B = np.hstack((B1,B2))\n",
    "  C = np.vstack((C1,C2))\n",
    "  D1 = np.hstack((D11,D12))\n",
    "  D2 = np.hstack((D21,D22))\n",
    "  D = np.vstack(( D1, D2 ))\n",
    "\n",
    "  P = ctrl.ss(A,B,C,D)\n",
    "\n",
    "  nmeas = 1; ncont = 1;\n",
    "  C_H2 = ctrl.h2syn(P,nmeas,ncont)\n",
    "  #print('C_H2:\\n',C_H2)\n",
    "\n",
    "  # LQ \n",
    "  Q = C1.T @ C1\n",
    "  R = np.ones((1,1))\n",
    "  K = ctrl.lqr(A,B2,Q,R)[0]\n",
    "\n",
    "  # KF\n",
    "  W = B1 @ B1.T\n",
    "  V = np.ones((1,1))\n",
    "  L = ctrl.lqr(A.T,C2.T,W,V)[0].T\n",
    "\n",
    "  # LQG = LQ + KF\n",
    "  C_LQG = ctrl.ss(A - B2 @ K - L @ C2, L, -K, np.zeros((1,1)))\n",
    "  #print('C_LQG:\\n',C_LQG)\n",
    "\n",
    "  assert np.allclose(C_H2.A,C_LQG.A)\n",
    "  assert np.allclose(C_H2.B,C_LQG.B)\n",
    "  assert np.allclose(C_H2.C,C_LQG.C)\n",
    "  assert np.allclose(C_H2.D,C_LQG.D)\n",
    "\n",
    "  return C_H2"
   ]
  },
  {
   "cell_type": "markdown",
   "metadata": {
    "id": "0Mp6OKbdMXEc"
   },
   "source": [
    "Including three variants of the plot, depending on whether a linear or log scale is used for the horizontal or vertical axes:"
   ]
  },
  {
   "cell_type": "code",
   "execution_count": 12,
   "metadata": {
    "colab": {
     "base_uri": "https://localhost:8080/",
     "height": 897
    },
    "executionInfo": {
     "elapsed": 1247,
     "status": "ok",
     "timestamp": 1623618306323,
     "user": {
      "displayName": "Sam Burden",
      "photoUrl": "https://lh3.googleusercontent.com/a-/AOh14GjApr-2gPPda0DddsKtZiaMzZ8YWbPkAT9JP0pG=s64",
      "userId": "06088542255363958083"
     },
     "user_tz": 420
    },
    "id": "3aLwz1BuKpSD",
    "outputId": "d76ef3fd-7bbc-4f6a-a63a-718a9de4ec2e"
   },
   "outputs": [
    {
     "data": {
      "text/plain": [
       "Text(0.5, 0, 'noise / penalty parameter $\\\\sigma^2 = q$')"
      ]
     },
     "execution_count": 12,
     "metadata": {},
     "output_type": "execute_result"
    },
    {
     "data": {
      "image/png": "[encoded data removed]",
      "text/plain": [
       "<Figure size 432x288 with 1 Axes>"
      ]
     },
     "metadata": {
      "needs_background": "light"
     },
     "output_type": "display_data"
    },
    {
     "data": {
      "image/png": "[encoded data removed]",
      "text/plain": [
       "<Figure size 432x288 with 1 Axes>"
      ]
     },
     "metadata": {
      "needs_background": "light"
     },
     "output_type": "display_data"
    },
    {
     "data": {
      "image/png": "[encoded data removed]",
      "text/plain": [
       "<Figure size 432x288 with 1 Axes>"
      ]
     },
     "metadata": {
      "needs_background": "light"
     },
     "output_type": "display_data"
    }
   ],
   "source": [
    "S2 = np.logspace(-3,3)\n",
    "Gm = np.array([ctrl.margin(h2syn(s2))[0] for s2 in S2])\n",
    "\n",
    "plt.figure()\n",
    "plt.plot(S2,Gm)\n",
    "plt.ylabel(r'gain margin $g_m$')\n",
    "plt.xlabel(r'noise / penalty parameter $\\sigma^2 = q$')\n",
    "\n",
    "plt.figure()\n",
    "plt.semilogx(S2,Gm)\n",
    "plt.ylabel(r'gain margin $g_m$')\n",
    "plt.xlabel(r'noise / penalty parameter $\\sigma^2 = q$')\n",
    "\n",
    "plt.figure()\n",
    "plt.loglog(S2,Gm)\n",
    "plt.ylabel(r'gain margin $g_m$')\n",
    "plt.xlabel(r'noise / penalty parameter $\\sigma^2 = q$')\n",
    "\n",
    "#plt.tight_layout();"
   ]
  },
  {
   "cell_type": "markdown",
   "metadata": {
    "id": "3b2FwTwcoNus"
   },
   "source": [
    "(c) Use `control.hinfsyn`, i.e. the $H_\\infty$ controller synthesis routine from the Control Systems Toolbox, to determine a dynamic compensator $C_{H_\\infty}$ for $P$ that minimizes the $H_\\infty$ norm of the closed-loop transformation from $w$ to $z$; provide a state-space realization of the compensator.  Provide a plot of the $H_\\infty$ norm versus $q = \\sigma^2$.\n",
    "\n"
   ]
  },
  {
   "cell_type": "markdown",
   "metadata": {
    "id": "RXvCD8hWuyCE"
   },
   "source": [
    "## (c) solution"
   ]
  },
  {
   "cell_type": "code",
   "execution_count": 13,
   "metadata": {
    "id": "2PjpQkLRMlAn"
   },
   "outputs": [],
   "source": [
    "def hinfsyn(s2): # s2 = sigma^2\n",
    "  q = s2 # q\n",
    "\n",
    "  # dx = A x + B1 w + B2 u\n",
    "  A = np.array([[1,1],[0,1]])\n",
    "  B1 = np.array([[np.sqrt(s2),0],[np.sqrt(s2),0]])\n",
    "  B2 = np.array([[0],[1]])\n",
    "  # z = C1 x + D11 w + D12 u\n",
    "  C1 = np.array([[np.sqrt(q),np.sqrt(q)],[0,0]])\n",
    "  D11 = np.zeros((2,2))\n",
    "  D12 = np.array([[0],[1]])\n",
    "  # y = C2 x + D21 w + D22 u\n",
    "  C2 = np.array([[1,0]])\n",
    "  D21 = np.array([[0,1]])\n",
    "  D22 = np.zeros((1,1))\n",
    "\n",
    "  # check shapes\n",
    "  P_zw = ctrl.ss(A,B1,C1,D11)\n",
    "  P_zu = ctrl.ss(A,B2,C1,D12)\n",
    "  P_yw = ctrl.ss(A,B1,C2,D21)\n",
    "  P_yu = ctrl.ss(A,B2,C2,D22)\n",
    "\n",
    "  # assemble overall P\n",
    "  B = np.hstack((B1,B2))\n",
    "  C = np.vstack((C1,C2))\n",
    "  D1 = np.hstack((D11,D12))\n",
    "  D2 = np.hstack((D21,D22))\n",
    "  D = np.vstack(( D1, D2 ))\n",
    "\n",
    "  P = ctrl.ss(A,B,C,D)\n",
    "\n",
    "  nmeas = 1; ncont = 1;\n",
    "  C_oo,_,H_oo,_ = ctrl.hinfsyn(P,nmeas,ncont)\n",
    "\n",
    "  return C_oo,H_oo"
   ]
  },
  {
   "cell_type": "code",
   "execution_count": 14,
   "metadata": {
    "id": "i51hqpTZNWi3"
   },
   "outputs": [],
   "source": [
    "ctrl.hinfsyn?"
   ]
  },
  {
   "cell_type": "code",
   "execution_count": 15,
   "metadata": {
    "colab": {
     "base_uri": "https://localhost:8080/",
     "height": 892
    },
    "executionInfo": {
     "elapsed": 5625,
     "status": "ok",
     "timestamp": 1623618621274,
     "user": {
      "displayName": "Sam Burden",
      "photoUrl": "https://lh3.googleusercontent.com/a-/AOh14GjApr-2gPPda0DddsKtZiaMzZ8YWbPkAT9JP0pG=s64",
      "userId": "06088542255363958083"
     },
     "user_tz": 420
    },
    "id": "HE0eEQqINApy",
    "outputId": "8ad2b26f-77f0-4ef3-caac-fb1760051ec1"
   },
   "outputs": [
    {
     "data": {
      "text/plain": [
       "Text(0.5, 0, 'noise / penalty parameter $\\\\sigma^2 = q$')"
      ]
     },
     "execution_count": 15,
     "metadata": {},
     "output_type": "execute_result"
    },
    {
     "data": {
      "image/png": "[encoded data removed]",
      "text/plain": [
       "<Figure size 432x288 with 1 Axes>"
      ]
     },
     "metadata": {
      "needs_background": "light"
     },
     "output_type": "display_data"
    },
    {
     "data": {
      "image/png": "[encoded data removed]",
      "text/plain": [
       "<Figure size 432x288 with 1 Axes>"
      ]
     },
     "metadata": {
      "needs_background": "light"
     },
     "output_type": "display_data"
    },
    {
     "data": {
      "image/png": "[encoded data removed]",
      "text/plain": [
       "<Figure size 432x288 with 1 Axes>"
      ]
     },
     "metadata": {
      "needs_background": "light"
     },
     "output_type": "display_data"
    }
   ],
   "source": [
    "H_oo = np.array([hinfsyn(s2)[1] for s2 in S2])\n",
    "\n",
    "plt.figure()\n",
    "plt.plot(S2,H_oo)\n",
    "plt.ylabel(r'$H_{\\infty}$ norm')\n",
    "plt.xlabel(r'noise / penalty parameter $\\sigma^2 = q$')\n",
    "\n",
    "plt.figure()\n",
    "plt.semilogx(S2,H_oo)\n",
    "plt.ylabel(r'$H_{\\infty}$ norm')\n",
    "plt.xlabel(r'noise / penalty parameter $\\sigma^2 = q$')\n",
    "\n",
    "plt.figure()\n",
    "plt.loglog(S2,H_oo)\n",
    "plt.ylabel(r'$H_{\\infty}$ norm')\n",
    "plt.xlabel(r'noise / penalty parameter $\\sigma^2 = q$')\n",
    "\n",
    "#plt.tight_layout();"
   ]
  },
  {
   "cell_type": "markdown",
   "metadata": {
    "id": "E-Ne34ZboOnR"
   },
   "source": [
    "(d) Apply the (\"small-gain\") Theorem from lecture 09c (\"uncertain systems\") to determine a bound on the gain margin based on the $H_\\infty$ norm computed in (c) and compare to the actual gain margin.  Provide a plot showing the gain margin and its bound versus $q = \\sigma^2$.\n"
   ]
  },
  {
   "cell_type": "markdown",
   "metadata": {
    "id": "ZI5NhXkiuy7u"
   },
   "source": [
    "## (d) solution"
   ]
  },
  {
   "cell_type": "code",
   "execution_count": 16,
   "metadata": {
    "id": "B9DH13iwtr-6"
   },
   "outputs": [],
   "source": [
    "Gm = np.array([ctrl.margin(hinfsyn(s2)[0])[0] for s2 in S2])"
   ]
  },
  {
   "cell_type": "code",
   "execution_count": 17,
   "metadata": {
    "colab": {
     "base_uri": "https://localhost:8080/",
     "height": 892
    },
    "executionInfo": {
     "elapsed": 1236,
     "status": "ok",
     "timestamp": 1623619807425,
     "user": {
      "displayName": "Sam Burden",
      "photoUrl": "https://lh3.googleusercontent.com/a-/AOh14GjApr-2gPPda0DddsKtZiaMzZ8YWbPkAT9JP0pG=s64",
      "userId": "06088542255363958083"
     },
     "user_tz": 420
    },
    "id": "Cbqnqr3_OALn",
    "outputId": "a9ae2da2-f021-47fa-a66a-ff00942b3c53"
   },
   "outputs": [
    {
     "data": {
      "text/plain": [
       "<matplotlib.legend.Legend at 0x7fc8505898e0>"
      ]
     },
     "execution_count": 17,
     "metadata": {},
     "output_type": "execute_result"
    },
    {
     "data": {
      "image/png": "[encoded data removed]",
      "text/plain": [
       "<Figure size 432x288 with 1 Axes>"
      ]
     },
     "metadata": {
      "needs_background": "light"
     },
     "output_type": "display_data"
    },
    {
     "data": {
      "image/png": "[encoded data removed]",
      "text/plain": [
       "<Figure size 432x288 with 1 Axes>"
      ]
     },
     "metadata": {
      "needs_background": "light"
     },
     "output_type": "display_data"
    },
    {
     "data": {
      "image/png": "[encoded data removed]",
      "text/plain": [
       "<Figure size 432x288 with 1 Axes>"
      ]
     },
     "metadata": {
      "needs_background": "light"
     },
     "output_type": "display_data"
    }
   ],
   "source": [
    "plt.figure()\n",
    "plt.plot(S2,Gm,'--',lw=4,label=r'$g_m$')\n",
    "plt.plot(S2,1/H_oo,label=r'$1/H_{\\infty}$')\n",
    "plt.xlabel(r'noise / penalty parameter $\\sigma^2 = q$')\n",
    "plt.legend()\n",
    "\n",
    "plt.figure()\n",
    "plt.semilogx(S2,Gm,'--',lw=4,label=r'$g_m$')\n",
    "plt.semilogx(S2,1/H_oo,label=r'$1/H_{\\infty}$')\n",
    "plt.xlabel(r'noise / penalty parameter $\\sigma^2 = q$')\n",
    "plt.legend()\n",
    "\n",
    "plt.figure()\n",
    "plt.loglog(S2,Gm,'--',lw=4,label=r'$g_m$')\n",
    "plt.loglog(S2,1/H_oo,label=r'$1/H_{\\infty}$')\n",
    "plt.xlabel(r'noise / penalty parameter $\\sigma^2 = q$')\n",
    "plt.legend()"
   ]
  },
  {
   "cell_type": "code",
   "execution_count": null,
   "metadata": {
    "id": "13ZxziU2SCLG"
   },
   "outputs": [],
   "source": []
  }
 ],
 "metadata": {
  "colab": {
   "collapsed_sections": [],
   "name": "548_21sp_exam2_solution.ipynb",
   "provenance": []
  },
  "kernelspec": {
   "display_name": "Python 3",
   "language": "python",
   "name": "python3"
  },
  "language_info": {
   "codemirror_mode": {
    "name": "ipython",
    "version": 3
   },
   "file_extension": ".py",
   "mimetype": "text/x-python",
   "name": "python",
   "nbconvert_exporter": "python",
   "pygments_lexer": "ipython3",
   "version": "3.8.10"
  }
 },
 "nbformat": 4,
 "nbformat_minor": 1
}
