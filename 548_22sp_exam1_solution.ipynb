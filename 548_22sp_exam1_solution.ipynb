{
 "cells": [
  {
   "cell_type": "markdown",
   "metadata": {
    "id": "4qz2av61Xgua"
   },
   "source": [
    "# 548 22sp exam1 due 11:59p Fri Apr 29 \n",
    "\n",
    "***You are welcome (and encouraged) to:***\n",
    "- use analytical and numerical computational tools -- specify the tool(s) in sourcecode and/or text;\n",
    "- reuse example sourcecode and other materials provided in this course;\n",
    "- consult textbooks, websites, and other publicly-available materials -- include full citation(s) with the URL and/or [DOI](https://en.wikipedia.org/wiki/Digital_object_identifier).\n",
    "\n",
    "***You are not permitted to discuss the exam problems or share any part of your solutions with anyone other than the instructional staff (Professor and/or TA[s]) for this course.***\n",
    "- By submitting your exam solution on Canvas, you are affirming your understanding of and adherence to these restrictions.\n",
    "- We will answer questions during the class Zoom meetings Tue and Thu of the exam week.\n",
    "- We will also answer questions posted to the Canvas Discussion board until 5p Fri of the exam week.\n",
    "\n",
    "***The exam deadline is midnight (11:59p) Fri on Canvas.***\n",
    "- Final submissions received before this deadline will receive +2 bonus points (equal to one subproblem).\n",
    "- Everyone automatically receives a deadline extension to midnight (11:59p) Sunday following the deadline. ***No further deadline extensions will be granted except in exceptional circumstances -- please plan accordingly, but do reach out if you need help.***"
   ]
  },
  {
   "cell_type": "code",
   "execution_count": 61,
   "metadata": {},
   "outputs": [
    {
     "name": "stdout",
     "output_type": "stream",
     "text": [
      "13.2 <= scores <= 22.0\n",
      "median score = 20.5\n"
     ]
    },
    {
     "data": {
      "image/png": "[encoded data removed]",
      "text/plain": [
       "<Figure size 576x432 with 2 Axes>"
      ]
     },
     "metadata": {
      "needs_background": "light"
     },
     "output_type": "display_data"
    }
   ],
   "source": [
    "import numpy as np\n",
    "import pylab as plt\n",
    "\n",
    "scores = np.array([13.25, 14.5, 14.75, 15.5, 17.5, 17.75, 18.5, 19.5, 20.0, 20.0, 20.0, 20.25, 20.5, 20.5, 20.5, 20.5, 21.0, 21.0, 21.0, 21.0, 21.0, 21.25, 21.5, 21.5, 22.0, 22.0]\n",
    ")\n",
    "\n",
    "print('%0.1f <= scores <= %0.1f'%(scores.min(),scores.max()))\n",
    "print('median score = %0.1f'%np.median(scores))\n",
    "\n",
    "xlim = (0,22)\n",
    "dxlim = xlim[1] - xlim[0]\n",
    "\n",
    "plt.figure(figsize=(8,6))\n",
    "plt.subplot(2,1,1)\n",
    "h = plt.hist(scores,bins=np.linspace(xlim[0],xlim[1],2*dxlim))\n",
    "n,s = h[0],h[1]\n",
    "N = int(np.ceil(h[0].max()))\n",
    "plt.ylim(0,N+1)\n",
    "plt.xticks(np.linspace(xlim[0],xlim[1],dxlim+1))\n",
    "plt.yticks(np.linspace(0,N,(N+2)//2))\n",
    "plt.xlim(xlim)\n",
    "plt.ylabel('exams (#)');\n",
    "\n",
    "plt.subplot(2,1,2)\n",
    "n *= 100./n.sum()\n",
    "n = np.hstack((0.,n))\n",
    "plt.fill_between(s,np.cumsum(n),0*n)\n",
    "plt.xlim(xlim)\n",
    "plt.xticks(np.linspace(xlim[0],xlim[1],dxlim+1))\n",
    "plt.yticks(np.linspace(0,100,6))\n",
    "plt.xlabel('score'); plt.ylabel('exams (%)');"
   ]
  },
  {
   "cell_type": "markdown",
   "metadata": {
    "id": "k1AYZW3TlXtB"
   },
   "source": [
    "# problem 1"
   ]
  },
  {
   "cell_type": "markdown",
   "metadata": {
    "id": "k1AYZW3TlXtB"
   },
   "source": [
    "Consider the problem of minimizing $c:\\mathbb{R}^m\\rightarrow\\mathbb{R}$, which is two-times continuously-differentiable.  In particular, we seek to find $u^*\\in\\mathbb{R}^m$ such that $D c(u^*) = 0$ and $D^2 c(u^*) > 0$."
   ]
  },
  {
   "cell_type": "markdown",
   "metadata": {
    "id": "k1AYZW3TlXtB"
   },
   "source": [
    "## subproblem (a) \n",
    "The ***steepest descent*** difference equation (DE) for approximating $u^*$ is $u^+ = u - \\alpha\\, D c(u)^\\top$, where $\\alpha > 0$ is a *step size* parameter.\n",
    "\n",
    "Linearize the steepest descent DE about $u^*$ and show that the linearized DE is unstable when $\\alpha > 0$ is too large.  In other words:  (i) determine the matrix $A_\\alpha$ such that $\\delta u^+ \\approx A_\\alpha \\, \\delta u$ implies $u^+ \\approx u^* + \\delta u^+$ when $u = u^* + \\delta u$ and $\\delta u$ is small; and (ii) show that $A_\\alpha$ is unstable for $\\alpha > 0$ sufficiently large.  "
   ]
  },
  {
   "cell_type": "markdown",
   "metadata": {},
   "source": [
    "## solution\n",
    "\n",
    "Differentiating the DE $u^+ = F(u) = u - \\alpha\\, Dc(u)^\\top$ and evaluating at $u^*$ yields $DF(u^*) = I - \\alpha\\, D^2 c(u^*) = A_\\alpha$ for part (i).  \n",
    "\n",
    "For part (ii), note that the eigenvalues of $A_\\alpha$ are related to those of $H = D^2 c(u^*)$ since \n",
    "$$ H v = \\lambda v \\implies A_\\alpha v = (1 - \\alpha\\lambda) v. $$\n",
    "Since we are given that $H = H^\\top > 0$ we know that $H$ is invertible so none of its eigenvalues are zero (in fact, they are all positive numbers).\n",
    "We conclude that there exists $\\alpha > 0$ sufficiently large so that $| 1 + \\alpha\\lambda | > 1$ for any eigenvalue $\\lambda$ of $H$, so the linearized DE is unstable for all $\\alpha > 0$ sufficiently large.\n",
    "\n",
    "**notes:**\n",
    "- 0.5 points for linearization\n",
    "- 0.5 points for stability analysis\n",
    "- one common mistake:  conflating $H$ or $A_\\alpha$ (matrices) with their eigenvalues (scalars) -- this is *almost* but *not quite* OK, as $A_\\alpha = A_\\alpha^\\top$ implies $A_\\alpha$ is diagonalizable"
   ]
  },
  {
   "cell_type": "markdown",
   "metadata": {
    "id": "k1AYZW3TlXtB"
   },
   "source": [
    "## subproblem (b) \n",
    "The ***Newton-Raphson*** DE for approximating $u^*$ is $u^+ = u - \\left[ D^2 c(u^*) \\right]^{-1} Dc(u)^\\top$.\n",
    "\n",
    "Linearize the Newton-Raphson DE about $u^*$ and assess stability of the linearized DE.\n",
    "\n",
    "***Hint:*** you should find that the linearized DE in (b) is ***much*** more stable than the linearized DE in (a)."
   ]
  },
  {
   "cell_type": "markdown",
   "metadata": {},
   "source": [
    "## solution\n",
    "\n",
    "Differentiating the DE $u^+ = F(u) = u - \\left[ D^2 c(u^*) \\right]^{-1} Dc(u)^\\top$ and evaluating at $u^*$ yields $DF(u^*) = I - I = 0 = A$.  Since all eigenvalues of $A$ are zero, they have magnitude smaller than $1$, so the linearized DE is stable.\n",
    "\n",
    "In fact the linearized DE in this subproblem is ***much*** more stable than the one from the previous subproblem because convergence occurs in *finite time* (rather than \"merely\" at an exponential rate) -- in terms of the original (nonlinear) DE, this implies convergence is ***super***-exponential, that is, the convergence rate is faster than any exponential.\n",
    "\n",
    "**notes:**\n",
    "- 0.5 points for linearization\n",
    "- 0.5 points for stability analysis"
   ]
  },
  {
   "cell_type": "markdown",
   "metadata": {},
   "source": [
    "# problem 2"
   ]
  },
  {
   "cell_type": "markdown",
   "metadata": {},
   "source": [
    "Consider the (CT-LTI) model\n",
    "$$\\dot{x} = Ax$$\n",
    "and the (DT-LTI) model\n",
    "$$\\bar{x}^+ = \\bar{A}\\bar{x}$$\n",
    "that is obtained by discretizing (CT-LTI) using *Forward Euler* or *Exact* discretization with step size $\\Delta > 0$:\n",
    "* Forward Euler:  $\\bar{x}^+ = \\bar{x} + \\Delta\\, A \\bar{x}$;\n",
    "* Exact:  $\\bar{x}^+ = e^{\\Delta\\, A} \\bar{x}$;\n",
    "\n",
    "***Hint:*** you should be able to determine how eigenvalues of the (DT-LTI) system relate to eigenvalues of the (CT-LTI) system."
   ]
  },
  {
   "cell_type": "markdown",
   "metadata": {},
   "source": [
    "## subproblem (a) \n",
    "\n",
    "If (CT-LTI) is exponentially stable, is the (DT-LTI) system obtained from Forward Euler discretization exponentially stable for all $\\Delta > 0$?"
   ]
  },
  {
   "cell_type": "markdown",
   "metadata": {},
   "source": [
    "## solution\n",
    "\n",
    "The eigenvalues of $\\bar{A} = (I + \\Delta\\, A)$ are related to the eigenvalues of $A$:\n",
    "$$ A v = \\lambda v \\implies \\bar{A} v = (I + \\Delta\\, A) v = (1 + \\Delta \\lambda) v. $$\n",
    "\n",
    "If (CT-LTI) is exponentially stable, then the eigenvalues of $A$ have negative real part:  \n",
    "$$ A v = \\lambda v \\implies \\operatorname{Re}\\lambda < 0. $$\n",
    "\n",
    "Therefore for $\\Delta > 0$ sufficiently large we have that $|1 + \\Delta \\lambda| > 1$, in which case (DT-LTI) is unstable.\n",
    "\n",
    "**notes:**\n",
    "- 0.5 points for determining eigenvalues of $\\bar{A}$\n",
    "- 0.5 points for stability analysis\n",
    "- one common mistake:  assuming eigenvalues of $A$ are purely real"
   ]
  },
  {
   "cell_type": "markdown",
   "metadata": {},
   "source": [
    "## subproblem (b) \n",
    "Determine stability of the (DT-LTI) system obtained from Exact discretization when the (CT-LTI) system is (i) stable and (ii) unstable."
   ]
  },
  {
   "cell_type": "markdown",
   "metadata": {},
   "source": [
    "## solution\n",
    "\n",
    "The eigenvalues of $\\bar{A} = e^{\\Delta\\, A}$ are related to the eigenvalues of $A$:\n",
    "$$ A v = \\lambda v \\implies \\bar{A} v = e^{\\Delta\\, A} v = e^{\\Delta\\,\\lambda} v; $$\n",
    "this can be shown using the power series definition of the matrix exponential.\n",
    "\n",
    "Since the scalar exponential maps the left-half complex plane to the interior of the unit circle and the right-half complex plane to the exterior of the unit circle, we conclude that the (DT-LTI) system is stable if and only if the (CT-LTI) system is stable.\n",
    "\n",
    "**notes:**\n",
    "- 0.5 points for determining eigenvalues of $\\bar{A}$\n",
    "- 0.5 points for stability analysis"
   ]
  },
  {
   "cell_type": "markdown",
   "metadata": {},
   "source": [
    "# problem 3"
   ]
  },
  {
   "cell_type": "markdown",
   "metadata": {},
   "source": [
    "(a) Given $A\\in\\mathbb{R}^{m\\times n}$, $B\\in\\mathbb{R}^{n\\times m}$ such that $(I - A\\, B)$ and $(I - B\\, A)$ are invertible, show that $A (I - B\\, A)^{-1} = (I - A\\, B)^{-1} A$.\n",
    "\n",
    "***Hint:*** it may help to consider the following MIMO system block diagram:\n",
    "\n",
    "![](https://raw.githubusercontent.com/sburden/548-22sp/master/548_22sp_exam1_block-diagram.png)"
   ]
  },
  {
   "cell_type": "markdown",
   "metadata": {},
   "source": [
    "## solution\n",
    "\n",
    "Following the hint, we will make use of the block diagram.  A happy thought leads us to derive $T_{yu}$ two ways:  directly (write $y$ in terms of $u$) and indirectly ($T_{yu} = T_{yv}\\, T_{vu}$).\n",
    "\n",
    "First, we solve $y = G_1\\, (u + G_2\\, y)$ to obtain $y = (I - G_1\\, G_2)^{-1} G_1\\, u = T_{yu}\\, u$.\n",
    "\n",
    "Second, we solve $v = u + G_2\\, G_1\\, v$ to obtain $v = (I - G_2\\, G_1)^{-1} u = T_{vu}\\, u$ and hence $T_{yu} = T_{yv}\\, T_{vu} = G_1\\, (I - G_2\\, G_1)^{-1}$.\n",
    "\n",
    "The two expressions for $T_{yu}$ must be equal since they both specify the same linear operator, so we conclude $A\\, (I - B\\, A)^{-1} = (I - A\\, B)^{-1} A$.\n",
    "\n",
    "Actually, this identity can be derived purely algebraically by noting that $A - ABA = A(I - BA) = (I - AB)A$ and multiplying this equation by $(I-AB)^{-1}$ on the left (i.e. \"pre\"-multiplying) and by $(I-BA)^{-1}$ on the right."
   ]
  },
  {
   "cell_type": "markdown",
   "metadata": {},
   "source": [
    "(b) Derive the transfer functions $T_{vu}$ and $T_{zu}$ and show that there is a tradeoff between the two of them.\n",
    "\n",
    "***Hint:*** it may help to use the formula you verified in (a)."
   ]
  },
  {
   "cell_type": "markdown",
   "metadata": {},
   "source": [
    "## solution\n",
    "\n",
    "We already derived $T_{vu} = (I - G_2\\, G_1)^{-1}$ in (a).\n",
    "\n",
    "We solve $z = G_2\\, G_1\\, (u + z)$ to obtain $z = (I - G_2\\, G_1)^{-1} G_2\\, G_1\\, u = T_{zu} u$.\n",
    "\n",
    "Observing that $T_{vu} - T_{zu} = (I - G_2\\, G_1)^{-1}(I - G_2\\, G_1) = I$, we have identified a tradeoff between these two transfer functions.\n",
    "\n",
    "**notes:**\n",
    "- 0.5 points for MIMO analysis\n",
    "- 0.25 points each for $T_{vu}$ and $T_{zu}$\n",
    "- one common mistake:  assuming $A$ or $B$ are invertible -- they are not even square"
   ]
  },
  {
   "cell_type": "markdown",
   "metadata": {},
   "source": [
    "# problem 4\n",
    "\n",
    "Consider the control system below with input disturbance $v$ and output disturbance $w$ -- assume all signals are scalar-valued, so all transformations are single-input/single-output (SISO).\n",
    "\n",
    "![](http://faculty.washington.edu/sburden/447/447-final-exam-block-diagram.png)\n",
    "\n",
    "You just started a new job as a ***Senior Control System Engineer*** at a startup company that is designing a quadrotor drone for power line inspection."
   ]
  },
  {
   "cell_type": "markdown",
   "metadata": {},
   "source": [
    "## subproblem (a)\n",
    "\n",
    "At this morning's all-hands meeting, the mechatronics team announces that electromagnetic interference introduces significant input disturbance $v$ and output disturbance $w$ at $60\\text{Hz}$, so your boss tasks you with designing controller $C$ to attenuate 90% of the effect of these disturbances on input $u$ and output $y$, i.e. with $T_{uv}$ denoting the transfer function from $v$ to $u$ and $T_{yw}$ denoting the transfer function from $w$ to $y$,\n",
    "\n",
    "$$|T_{uv}(j\\, 60\\text{Hz})| \\le 0.1,\\ |T_{yw}(j\\, 60\\text{Hz})| \\le 0.1. $$\n",
    "\n",
    "Determine whether it is possible to satisfy this specification, and explain your conclusion to your team."
   ]
  },
  {
   "cell_type": "markdown",
   "metadata": {},
   "source": [
    "## solution\n",
    "\n",
    "It is not possible to satisfy this specification because of the tradeoff $T_{yw} - T_{uv} = 1$ -- at any particular frequency $\\omega$, we have $T_{yw}(j\\omega) - T_{uv}(j\\omega) = 1$, so applying the triangle inequality yields $1 = |T_{yw}(j\\omega) - T_{uv}(j\\omega)| \\leq |T_{yw}(j\\omega)| + |T_{uv}(j\\omega) |$, so it is not possible for the rightmost expression to be $\\leq 0.2$ at $\\omega = 60$Hz.\n",
    "\n",
    "**notes:**\n",
    "- 0.5 points for recognizing tradeoff\n",
    "- 0.5 points for deriving algebraic contradiction"
   ]
  },
  {
   "cell_type": "markdown",
   "metadata": {},
   "source": [
    "## subproblem (b)\n",
    "\n",
    "During this afternoon's stand-up meeting, the aerodynamics team points out that turbulent wind conditions cause broad-band input disturbance $v$, so your boss tasks you with changing the controller design, from $C$ to $\\widetilde{C}$, to decrease the impact of these disturbances on the input $u$ by 25% at all frequencies, i.e. with $T_{uv}$ denoting the transfer function from $v$ to $u$ obtained with controller $C$ and $\\widetilde{T}_{uv}$ denoting the transfer function obtained with controller $\\widetilde{C}$,\n",
    "\n",
    "$$ \\forall \\omega \\geq 0 : |\\widetilde{T}_{uv}(j\\,\\omega)| \\leq 0.75 |T_{uv}(j\\,\\omega)|. $$\n",
    "\n",
    "Determine whether it is possible to satisfy this specification, and explain your conclusion to your team.\n",
    "\n",
    "***notes:***\n",
    "- 1 point for recognizing fundamental limit"
   ]
  },
  {
   "cell_type": "markdown",
   "metadata": {},
   "source": [
    "## solution\n",
    "\n",
    "It is not possible to satisfy this specification because of the Bode integral formula, which tells us that the integral $\\int_0^\\infty\\log|S(j\\omega)|d\\omega$ is conserved regardless of the choice of controller.\n",
    "\n",
    "For more details, refer to Theorems 1 and 2 in the following paper:\n",
    "* Freudenberg, J., and D. Looze. 1985. “Right Half Plane Poles and Zeros and Design Tradeoffs in Feedback Systems.” IEEE Transactions on Automatic Control 30 (6): 555–65."
   ]
  },
  {
   "cell_type": "markdown",
   "metadata": {},
   "source": [
    "# problem 5\n",
    "\n",
    "Consider minimization of the infinite-horizon quadratic cost\n",
    "\n",
    "$$\n",
    "\\min \\int_0^\\infty x^\\top Q x + u^\\top R u,\\\n",
    "Q = q\\, \\left[ \\begin{array}{c} 1 \\\\ 1 \\end{array} \\right] \\left[ \\begin{array}{c} 1 & 1 \\end{array} \\right]\n",
    ",\\ \n",
    "q > 0\n",
    ",\\\n",
    "R = 1\n",
    "$$\n",
    "\n",
    "subject to the linear process model\n",
    "\n",
    "$$\n",
    "\\dot{x}\n",
    "=\n",
    "\\left[ \\begin{array}{c} 1 & 1 \\\\ 0 & 1 \\end{array} \\right]\n",
    "x\n",
    "+\n",
    "\\left[ \\begin{array}{c} 0 \\\\ 1 \\end{array} \\right]\n",
    "u.\n",
    "$$"
   ]
  },
  {
   "cell_type": "markdown",
   "metadata": {},
   "source": [
    "## subproblem (a) \n",
    "Implement an algorithm that determines the matrix $K_q$ such that $u = -K_q x$ minimizes the quadratic cost for a given $q > 0$; provide (i) your implementation and (ii) the value of $K_q$ when $q = 1$.\n",
    "\n",
    "In other words:\n",
    "\n",
    "For part (i), fill in the body of the following function:"
   ]
  },
  {
   "cell_type": "code",
   "execution_count": 1,
   "metadata": {},
   "outputs": [],
   "source": [
    "def K(q):\n",
    "    \"\"\"\n",
    "    input:\n",
    "        q - scalar - cost weight\n",
    "        \n",
    "    output:\n",
    "        K_q - 1 x 2 - state feedback matrix\n",
    "    \"\"\"\n",
    "    # ... -- compute K_q for the given A, B, Q, R matrices\n",
    "    return K_q"
   ]
  },
  {
   "cell_type": "markdown",
   "metadata": {},
   "source": [
    "For part (ii), evaluate $K(1)$."
   ]
  },
  {
   "cell_type": "markdown",
   "metadata": {},
   "source": [
    "## solution\n",
    "\n"
   ]
  },
  {
   "cell_type": "markdown",
   "metadata": {},
   "source": [
    "We will compare three different solutions to sanity-check the answer(s):\n",
    "1. discrete-time finite-horizon;\n",
    "2. continuous-time finite-horizon;\n",
    "3. continuous-time infinite-horizon."
   ]
  },
  {
   "cell_type": "code",
   "execution_count": 45,
   "metadata": {},
   "outputs": [],
   "source": [
    "import numpy as np\n",
    "import scipy as sp\n",
    "from scipy import linalg\n",
    "\n",
    "# continuous-time LQR\n",
    "T = 100 # time horizon\n",
    "A = np.array([[1,1],[0,1]])\n",
    "B = np.array([[0],[1]])\n",
    "Q = np.array([[1],[1]]) @ np.array([[1,1]])\n",
    "R = np.array([[1]])\n",
    "\n",
    "# discrete-time LQR\n",
    "dt = 1e-3 # timestep\n",
    "A_ = np.eye(2) + dt*A\n",
    "B_ = dt*B\n",
    "Q_ = dt*Q\n",
    "R_ = dt*R\n",
    "\n",
    "def K(q):\n",
    "    \"\"\"\n",
    "    input:\n",
    "        q - scalar - cost weight\n",
    "        \n",
    "    output:\n",
    "        K_q - 1 x 2 - state feedback matrix\n",
    "    \"\"\"\n",
    "    # 1. discrete-time LQR DE\n",
    "    P_ = np.zeros((2,2))\n",
    "    for t in np.arange(0,T,dt):\n",
    "        K_ = np.linalg.inv(B_.T @ P_ @ B_ + R_) @ B_.T @ P_ @ A_\n",
    "        P_ = (A_ - B_ @ K_).T @ P_ @ (A_ - B_ @ K_) + K_.T @ R_ @ K_ + Q_*q\n",
    "    # 2. continuous-time LQR DE\n",
    "    P = np.zeros((2,2))\n",
    "    for t in np.arange(0,T,dt):\n",
    "        P = P + dt*(A.T @ P + P @ A - P @ B @ np.linalg.inv(R) @ B.T @ P + Q*q )\n",
    "    K = np.linalg.inv(R) @ B.T @ P\n",
    "    # 3. continuous-time infinite-horizon LQR\n",
    "    _P = sp.linalg.solve_continuous_are(A,B,Q*q,R)\n",
    "    _K = np.linalg.inv(R) @ B.T @ _P\n",
    "    #return P_,P,_P\n",
    "    return K_,K,_K"
   ]
  },
  {
   "cell_type": "markdown",
   "metadata": {},
   "source": [
    "The three solutions agree to two decimal places, with the two continuous-time solutions agreeing to more than 7 decimal places:"
   ]
  },
  {
   "cell_type": "code",
   "execution_count": 46,
   "metadata": {},
   "outputs": [
    {
     "name": "stdout",
     "output_type": "stream",
     "text": [
      "[[4.23111543 4.23323005]]\n",
      "[[4.23606798 4.23606798]]\n",
      "[[4.23606798 4.23606798]]\n"
     ]
    }
   ],
   "source": [
    "q = 1\n",
    "Kq_,Kq,_Kq = K(q)\n",
    "print(Kq_)\n",
    "print(Kq)\n",
    "print(_Kq)"
   ]
  },
  {
   "cell_type": "markdown",
   "metadata": {},
   "source": [
    "It turns out that the continuous-time solutions are more accurate, as the analytical solution is $K_q = (2 + \\sqrt{4 + q})\\left[ \\begin{array}{cc} 1 & 1 \\end{array} \\right]$:"
   ]
  },
  {
   "cell_type": "code",
   "execution_count": 47,
   "metadata": {},
   "outputs": [
    {
     "name": "stdout",
     "output_type": "stream",
     "text": [
      "[[4.23606798 4.23606798]]\n"
     ]
    }
   ],
   "source": [
    "print((2 + np.sqrt(4 + q))*np.array([[1,1]]))"
   ]
  },
  {
   "cell_type": "markdown",
   "metadata": {},
   "source": [
    "Of course, we could also use the `python-control` toolbox's `lqr` function:"
   ]
  },
  {
   "cell_type": "code",
   "execution_count": 48,
   "metadata": {},
   "outputs": [
    {
     "data": {
      "text/plain": [
       "True"
      ]
     },
     "execution_count": 48,
     "metadata": {},
     "output_type": "execute_result"
    }
   ],
   "source": [
    "np.allclose((2 + np.sqrt(4 + q))*np.array([[1,1]]),ctrl.lqr(A,B,Q*q,R)[0])"
   ]
  },
  {
   "cell_type": "markdown",
   "metadata": {},
   "source": [
    "For more information about this particular problem, refer to the following paper:\n",
    "* Doyle, John C. 1978. “Guaranteed Margins for LQG Regulators.” IEEE Transactions on Automatic Control 23 (4): 756–57.\n",
    "\n",
    "\n",
    "**notes:**\n",
    "- 0.5 points for implementation\n",
    "- 0.5 points for correct `K(1)`"
   ]
  },
  {
   "cell_type": "markdown",
   "metadata": {},
   "source": [
    "## subproblem (b) \n",
    "Suppose only the first component of state is observed and the controller from (a) is implemented using the state of an observer with gain matrix $L_q = K_q^\\top$.  Plot the gain margin of the closed-loop system as a function of $q$ over the range $q\\in(10^{-3},10^{+3})$."
   ]
  },
  {
   "cell_type": "markdown",
   "metadata": {},
   "source": [
    "## solution\n",
    "\n",
    "With output $y = x_1 = \\left[ \\begin{array}{cc} 1 & 0 \\end{array} \\right] x = C\\, x + D\\, u$, the process has state-space representation\n",
    "\n",
    "$$ \\dot{x} = A x + B u,\\ y = C x + D u, $$\n",
    "\n",
    "so the process transfer function is $P(s) = C (sI - A)^{-1} B + D$.\n",
    "\n",
    "The observer-based controller has state-space representation\n",
    "\n",
    "$$ \\dot{\\hat{x}} = A \\hat{x} + B u - L_q (\\hat{y} - y),\\ \\hat{y} = C \\hat{x} + D u,\\ u = - K_q \\hat{x}. $$\n",
    "\n",
    "Noting that $y$ is the controller's *input* and $u$ is the controller's *output*, some substition yields the state-space representation for the controller\n",
    "\n",
    "$$ \\dot{\\hat{x}} = (A - L_q\\, C - B\\, K_q + L_q\\, D\\, K_q) \\hat{x} + L_q y = \\hat{A}\\hat{x} + \\hat{B}y,\\ u = - K_q \\hat{x} = \\hat{C}\\hat{x} + \\hat{D}y, $$\n",
    "\n",
    "so the controller transfer function is $K(s) = \\hat{C} (sI - \\hat{A})^{-1} \\hat{B} + \\hat{D} = -K_q (sI - (A - L_q\\, C - B\\, K_q + L_q\\, D\\, K_q))^{-1} L_q$.\n",
    "\n",
    "To compute the gain margin, we instantiate process $P$ and controller $K$ and connect them in series to obtain the (open-)loop transfer function $L$.\n",
    "\n",
    "**notes:**\n",
    "- 0.5 points for implementing observer-based controller\n",
    "- 0.5 points for plotting gain margin of process+controller\n",
    "- one common mistake:  instantiating the state-space system whose state consists of (i) observer state $\\hat{x}$ and (ii) estimation error $e = x - \\hat{x}$ with the incorrect \"$B$\" or \"$C$\" matrices -- this led to gain margin increasing as $q$ increases rather than decreasing as in the plot below"
   ]
  },
  {
   "cell_type": "code",
   "execution_count": 49,
   "metadata": {},
   "outputs": [],
   "source": [
    "C = np.array([[1,0]])\n",
    "D = np.array([[0]])"
   ]
  },
  {
   "cell_type": "code",
   "execution_count": 55,
   "metadata": {
    "scrolled": true
   },
   "outputs": [
    {
     "data": {
      "text/plain": [
       "Text(0, 0.5, 'gain margin')"
      ]
     },
     "execution_count": 55,
     "metadata": {},
     "output_type": "execute_result"
    },
    {
     "data": {
      "image/png": "[encoded data removed]",
      "text/plain": [
       "<Figure size 432x288 with 1 Axes>"
      ]
     },
     "metadata": {
      "needs_background": "light"
     },
     "output_type": "display_data"
    }
   ],
   "source": [
    "#1. using the python-control toolbox\n",
    "import control as ctrl\n",
    "\n",
    "P = ctrl.ss(A,B,C,D)\n",
    "\n",
    "q_ = np.logspace(-3,+3,100)\n",
    "\n",
    "g = []\n",
    "for q in q_:\n",
    "    K_q = np.linalg.inv(R) @ B.T @ sp.linalg.solve_continuous_are(A,B,Q*q,R)\n",
    "    L_q = K_q.T\n",
    "    K = ctrl.ss(A - L_q @ C - B @ K_q + L_q @ D @ K_q, L_q, K_q, D)\n",
    "\n",
    "    L = ctrl.series(P,K)\n",
    "\n",
    "    g.append(ctrl.margin(L)[0])\n",
    "    #g.append(ctrl.stability_margins(L)[0])\n",
    "g = np.asarray(g)\n",
    "\n",
    "import pylab as plt\n",
    "plt.semilogx(q_,g);\n",
    "#plt.semilogx(q_,20*np.log10(g)); # <-- convert to dB\n",
    "plt.xlabel(r'$q$')\n",
    "plt.ylabel('gain margin')"
   ]
  }
 ],
 "metadata": {
  "colab": {
   "collapsed_sections": [],
   "name": "548_21sp_exam1.ipynb",
   "provenance": []
  },
  "kernelspec": {
   "display_name": "Python 3",
   "language": "python",
   "name": "python3"
  },
  "language_info": {
   "codemirror_mode": {
    "name": "ipython",
    "version": 3
   },
   "file_extension": ".py",
   "mimetype": "text/x-python",
   "name": "python",
   "nbconvert_exporter": "python",
   "pygments_lexer": "ipython3",
   "version": "3.8.10"
  }
 },
 "nbformat": 4,
 "nbformat_minor": 1
}
